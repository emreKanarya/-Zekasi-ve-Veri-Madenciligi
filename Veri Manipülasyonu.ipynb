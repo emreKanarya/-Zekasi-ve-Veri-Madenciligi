{
 "cells": [
  {
   "cell_type": "markdown",
   "id": "9066f82f-95ad-4d1e-86e5-3a117657a742",
   "metadata": {},
   "source": [
    "# Neden NumPy?"
   ]
  },
  {
   "cell_type": "code",
   "execution_count": 5,
   "id": "9fe160ae-c9d9-490a-863b-53ef04546eb8",
   "metadata": {},
   "outputs": [],
   "source": [
    "a=[1,2,3,4]\n",
    "b=[2,3,4,5]"
   ]
  },
  {
   "cell_type": "code",
   "execution_count": 9,
   "id": "53a55398-99d0-4586-9d29-d716a7228752",
   "metadata": {},
   "outputs": [
    {
     "data": {
      "text/plain": [
       "[2, 6, 12, 20]"
      ]
     },
     "execution_count": 9,
     "metadata": {},
     "output_type": "execute_result"
    }
   ],
   "source": [
    "ab=[]\n",
    "\n",
    "for i in range(0, len(a)):\n",
    "    ab.append(a[i]*b[i])\n",
    "    \n",
    "ab    "
   ]
  },
  {
   "cell_type": "code",
   "execution_count": 10,
   "id": "7a497c41-bd78-4c49-9592-787c4b5cb158",
   "metadata": {},
   "outputs": [],
   "source": [
    "import numpy as np"
   ]
  },
  {
   "cell_type": "code",
   "execution_count": 11,
   "id": "967f9e71-d57d-4e5c-a39d-b8ebb8cf8c20",
   "metadata": {},
   "outputs": [],
   "source": [
    "a=np.array([1,2,3,4])\n",
    "b=np.array([2,3,4,5])"
   ]
  },
  {
   "cell_type": "code",
   "execution_count": 12,
   "id": "6f23486e-2766-4630-818f-d226fec7f97b",
   "metadata": {},
   "outputs": [
    {
     "data": {
      "text/plain": [
       "array([ 2,  6, 12, 20])"
      ]
     },
     "execution_count": 12,
     "metadata": {},
     "output_type": "execute_result"
    }
   ],
   "source": [
    "a*b"
   ]
  },
  {
   "cell_type": "code",
   "execution_count": 15,
   "id": "c6d99d35-e8d7-4449-b42f-756e247571a0",
   "metadata": {},
   "outputs": [],
   "source": [
    "a=np.array([1,2,3,4,5])  #Array oluşturma"
   ]
  },
  {
   "cell_type": "code",
   "execution_count": 16,
   "id": "e15a24dd-5139-41e4-bafe-8e1cd039b0dc",
   "metadata": {},
   "outputs": [
    {
     "data": {
      "text/plain": [
       "array([1, 2, 3, 4, 5])"
      ]
     },
     "execution_count": 16,
     "metadata": {},
     "output_type": "execute_result"
    }
   ],
   "source": [
    "a"
   ]
  },
  {
   "cell_type": "code",
   "execution_count": 17,
   "id": "adb3344f-f5d9-4094-9488-5a559a29d690",
   "metadata": {},
   "outputs": [
    {
     "data": {
      "text/plain": [
       "numpy.ndarray"
      ]
     },
     "execution_count": 17,
     "metadata": {},
     "output_type": "execute_result"
    }
   ],
   "source": [
    "type(a)"
   ]
  },
  {
   "cell_type": "code",
   "execution_count": 20,
   "id": "d5dc5eab-b4e2-4835-9371-e46e0be6f538",
   "metadata": {},
   "outputs": [
    {
     "data": {
      "text/plain": [
       "array([ 3.14,  4.  ,  2.  , 13.  ], dtype=float32)"
      ]
     },
     "execution_count": 20,
     "metadata": {},
     "output_type": "execute_result"
    }
   ],
   "source": [
    "np.array([3.14, 4, 2, 13], dtype = \"float32\") # Veri tipini bu şekilde değiştirebiliriz."
   ]
  },
  {
   "cell_type": "code",
   "execution_count": 23,
   "id": "369f9149-d73a-4ec3-b865-74ed80aa4c4d",
   "metadata": {},
   "outputs": [
    {
     "data": {
      "text/plain": [
       "array([0., 0., 0., 0., 0., 0., 0., 0., 0., 0.])"
      ]
     },
     "execution_count": 23,
     "metadata": {},
     "output_type": "execute_result"
    }
   ],
   "source": [
    "np.zeros(10)#, dtype = int)"
   ]
  },
  {
   "cell_type": "code",
   "execution_count": 24,
   "id": "11af0fc1-5538-435e-bb79-2f697945726a",
   "metadata": {},
   "outputs": [
    {
     "data": {
      "text/plain": [
       "array([[1, 1, 1, 1, 1],\n",
       "       [1, 1, 1, 1, 1],\n",
       "       [1, 1, 1, 1, 1]])"
      ]
     },
     "execution_count": 24,
     "metadata": {},
     "output_type": "execute_result"
    }
   ],
   "source": [
    "np.ones((3,5), dtype = int)"
   ]
  },
  {
   "cell_type": "code",
   "execution_count": 25,
   "id": "a421926a-6b2d-45da-a5bb-5a337275b7eb",
   "metadata": {},
   "outputs": [
    {
     "data": {
      "text/plain": [
       "array([[3, 3, 3, 3, 3],\n",
       "       [3, 3, 3, 3, 3],\n",
       "       [3, 3, 3, 3, 3]])"
      ]
     },
     "execution_count": 25,
     "metadata": {},
     "output_type": "execute_result"
    }
   ],
   "source": [
    "np.full((3,5), 3)"
   ]
  },
  {
   "cell_type": "code",
   "execution_count": 27,
   "id": "6c6b88d0-f878-4c44-800b-185d01e77443",
   "metadata": {},
   "outputs": [
    {
     "data": {
      "text/plain": [
       "array([ 0,  3,  6,  9, 12, 15, 18, 21, 24, 27, 30])"
      ]
     },
     "execution_count": 27,
     "metadata": {},
     "output_type": "execute_result"
    }
   ],
   "source": [
    "np.arange(0,31,3)"
   ]
  },
  {
   "cell_type": "code",
   "execution_count": 30,
   "id": "f2189a68-f999-453d-9b09-d7c0fe284bb7",
   "metadata": {},
   "outputs": [
    {
     "data": {
      "text/plain": [
       "array([0.        , 0.11111111, 0.22222222, 0.33333333, 0.44444444,\n",
       "       0.55555556, 0.66666667, 0.77777778, 0.88888889, 1.        ])"
      ]
     },
     "execution_count": 30,
     "metadata": {},
     "output_type": "execute_result"
    }
   ],
   "source": [
    "np.linspace(0,1,10)"
   ]
  },
  {
   "cell_type": "code",
   "execution_count": 31,
   "id": "8f2c97dc-c4fe-498c-b5ca-fd8142bf7c63",
   "metadata": {},
   "outputs": [
    {
     "data": {
      "text/plain": [
       "array([[12.82008012,  2.22653452, 13.09369576, 14.8017891 ],\n",
       "       [15.13074744,  9.3693846 , 14.36189724, 11.28990489],\n",
       "       [ 6.73177325,  7.87407683,  5.82865173,  9.00668185]])"
      ]
     },
     "execution_count": 31,
     "metadata": {},
     "output_type": "execute_result"
    }
   ],
   "source": [
    "np.random.normal(10,4,(3,4)) #Ortalaması 4, Standart sapması 4 olacak şekilde 3 e 4 lük bir matris oluşturduk."
   ]
  },
  {
   "cell_type": "code",
   "execution_count": 32,
   "id": "f224f052-fc0b-4576-a08c-54bfe061b82e",
   "metadata": {},
   "outputs": [
    {
     "data": {
      "text/plain": [
       "array([[7, 5, 6],\n",
       "       [0, 4, 8],\n",
       "       [2, 6, 8]])"
      ]
     },
     "execution_count": 32,
     "metadata": {},
     "output_type": "execute_result"
    }
   ],
   "source": [
    "np.random.randint(0,10,(3,3))"
   ]
  },
  {
   "cell_type": "code",
   "execution_count": 33,
   "id": "bdf85873-617b-4a23-8798-f97ac38afa9e",
   "metadata": {},
   "outputs": [],
   "source": [
    "import numpy as np"
   ]
  },
  {
   "cell_type": "code",
   "execution_count": 34,
   "id": "0b56d4dc-13e7-4709-8c65-c3ff02095e92",
   "metadata": {},
   "outputs": [
    {
     "data": {
      "text/plain": [
       "array([8, 4, 8, 3, 2, 9, 0, 8, 4, 9])"
      ]
     },
     "execution_count": 34,
     "metadata": {},
     "output_type": "execute_result"
    }
   ],
   "source": [
    "np.random.randint(10, size=10)"
   ]
  },
  {
   "cell_type": "code",
   "execution_count": 36,
   "id": "13235b6d-0d2f-4901-8270-5938671fb462",
   "metadata": {},
   "outputs": [
    {
     "data": {
      "text/plain": [
       "1"
      ]
     },
     "execution_count": 36,
     "metadata": {},
     "output_type": "execute_result"
    }
   ],
   "source": [
    "a.ndim #Dizinin boyutunu bize verir."
   ]
  },
  {
   "cell_type": "code",
   "execution_count": 38,
   "id": "7f29a52a-5e94-4888-8566-e7176addb48a",
   "metadata": {},
   "outputs": [],
   "source": [
    "a=np.random.randint(10, size=10)"
   ]
  },
  {
   "cell_type": "code",
   "execution_count": 39,
   "id": "7b445da5-1822-441c-9fd0-2bc3c148c8ba",
   "metadata": {},
   "outputs": [
    {
     "data": {
      "text/plain": [
       "array([0, 3, 4, 5, 9, 3, 8, 4, 9, 6])"
      ]
     },
     "execution_count": 39,
     "metadata": {},
     "output_type": "execute_result"
    }
   ],
   "source": [
    "a"
   ]
  },
  {
   "cell_type": "code",
   "execution_count": 40,
   "id": "7b3ad2ab-88e0-46ab-b782-1351e359cac3",
   "metadata": {},
   "outputs": [
    {
     "data": {
      "text/plain": [
       "(10,)"
      ]
     },
     "execution_count": 40,
     "metadata": {},
     "output_type": "execute_result"
    }
   ],
   "source": [
    "a.shape #Tek boyutlu olduğu için sadece 10 verdi. 10 tane eleman var dedi."
   ]
  },
  {
   "cell_type": "code",
   "execution_count": 41,
   "id": "fe44aee6-a749-44cd-be1b-aa37f46f4700",
   "metadata": {},
   "outputs": [
    {
     "data": {
      "text/plain": [
       "10"
      ]
     },
     "execution_count": 41,
     "metadata": {},
     "output_type": "execute_result"
    }
   ],
   "source": [
    "a.size #Toplam eleman sayısını bize verir."
   ]
  },
  {
   "cell_type": "code",
   "execution_count": 42,
   "id": "19393747-e147-4017-bf61-1ce712f5424e",
   "metadata": {},
   "outputs": [
    {
     "data": {
      "text/plain": [
       "dtype('int32')"
      ]
     },
     "execution_count": 42,
     "metadata": {},
     "output_type": "execute_result"
    }
   ],
   "source": [
    "a.dtype #Veri türünü bize verir."
   ]
  },
  {
   "cell_type": "code",
   "execution_count": 44,
   "id": "41293e8b-5d28-47b2-9ead-823bb51d5125",
   "metadata": {},
   "outputs": [],
   "source": [
    "# İki boyutlu array oluşturalım.\n",
    "\n",
    "b= np.random.randint(10, size=(3,5))"
   ]
  },
  {
   "cell_type": "code",
   "execution_count": 45,
   "id": "5186605f-aa69-4f60-aba0-d06e6e670a53",
   "metadata": {},
   "outputs": [
    {
     "data": {
      "text/plain": [
       "array([[4, 7, 2, 4, 3],\n",
       "       [0, 6, 2, 1, 1],\n",
       "       [3, 5, 4, 3, 7]])"
      ]
     },
     "execution_count": 45,
     "metadata": {},
     "output_type": "execute_result"
    }
   ],
   "source": [
    "b"
   ]
  },
  {
   "cell_type": "code",
   "execution_count": 46,
   "id": "b9eab399-48f8-477f-a70b-896b0503b224",
   "metadata": {},
   "outputs": [
    {
     "data": {
      "text/plain": [
       "2"
      ]
     },
     "execution_count": 46,
     "metadata": {},
     "output_type": "execute_result"
    }
   ],
   "source": [
    "b.ndim"
   ]
  },
  {
   "cell_type": "code",
   "execution_count": 47,
   "id": "50d6b40c-b540-43ac-9d79-611d8f8ab687",
   "metadata": {},
   "outputs": [
    {
     "data": {
      "text/plain": [
       "(3, 5)"
      ]
     },
     "execution_count": 47,
     "metadata": {},
     "output_type": "execute_result"
    }
   ],
   "source": [
    "b.shape"
   ]
  },
  {
   "cell_type": "code",
   "execution_count": 48,
   "id": "86006443-4870-4553-a0c8-cf5d7cd4d2a9",
   "metadata": {},
   "outputs": [
    {
     "data": {
      "text/plain": [
       "15"
      ]
     },
     "execution_count": 48,
     "metadata": {},
     "output_type": "execute_result"
    }
   ],
   "source": [
    "b.size"
   ]
  },
  {
   "cell_type": "code",
   "execution_count": 49,
   "id": "8760e367-5dd0-4c96-88e9-617d8cf5fbc8",
   "metadata": {},
   "outputs": [
    {
     "data": {
      "text/plain": [
       "dtype('int32')"
      ]
     },
     "execution_count": 49,
     "metadata": {},
     "output_type": "execute_result"
    }
   ],
   "source": [
    "b.dtype"
   ]
  },
  {
   "cell_type": "code",
   "execution_count": 50,
   "id": "64def512-e488-4b99-bfe7-156e98cd8361",
   "metadata": {},
   "outputs": [
    {
     "data": {
      "text/plain": [
       "array([1, 2, 3, 4, 5, 6, 7, 8, 9])"
      ]
     },
     "execution_count": 50,
     "metadata": {},
     "output_type": "execute_result"
    }
   ],
   "source": [
    "np.arange(1,10)"
   ]
  },
  {
   "cell_type": "code",
   "execution_count": 52,
   "id": "8868efd2-93d0-49c5-86b3-8ed856897f36",
   "metadata": {},
   "outputs": [],
   "source": [
    "# Yukarıdaki tek boyutlu array imizi 2 boyutlu hale getirelim reshape ile.\n",
    "\n",
    "a=np.arange(1,10).reshape((3,3))"
   ]
  },
  {
   "cell_type": "code",
   "execution_count": 53,
   "id": "dac9b944-b742-4c63-9811-2688a51bfbd5",
   "metadata": {},
   "outputs": [
    {
     "data": {
      "text/plain": [
       "array([[1, 2, 3],\n",
       "       [4, 5, 6],\n",
       "       [7, 8, 9]])"
      ]
     },
     "execution_count": 53,
     "metadata": {},
     "output_type": "execute_result"
    }
   ],
   "source": [
    "a"
   ]
  },
  {
   "cell_type": "code",
   "execution_count": 54,
   "id": "9bb95638-9d70-4d76-8158-68e12c80dc0f",
   "metadata": {},
   "outputs": [
    {
     "data": {
      "text/plain": [
       "(3, 3)"
      ]
     },
     "execution_count": 54,
     "metadata": {},
     "output_type": "execute_result"
    }
   ],
   "source": [
    "a.shape"
   ]
  },
  {
   "cell_type": "code",
   "execution_count": 55,
   "id": "0ddf2cbb-f420-4807-9a1e-e0b769b51547",
   "metadata": {},
   "outputs": [
    {
     "data": {
      "text/plain": [
       "2"
      ]
     },
     "execution_count": 55,
     "metadata": {},
     "output_type": "execute_result"
    }
   ],
   "source": [
    "a.ndim"
   ]
  },
  {
   "cell_type": "code",
   "execution_count": 56,
   "id": "68c1b1cf-b84b-4f73-b73e-3db6abc414ea",
   "metadata": {},
   "outputs": [],
   "source": [
    "a= np.arange(1,10)"
   ]
  },
  {
   "cell_type": "code",
   "execution_count": 57,
   "id": "bffefa5b-4f59-483a-bcd6-12dd475418ed",
   "metadata": {},
   "outputs": [
    {
     "data": {
      "text/plain": [
       "array([1, 2, 3, 4, 5, 6, 7, 8, 9])"
      ]
     },
     "execution_count": 57,
     "metadata": {},
     "output_type": "execute_result"
    }
   ],
   "source": [
    "a"
   ]
  },
  {
   "cell_type": "code",
   "execution_count": 58,
   "id": "039499aa-ed25-4dec-ad82-039c6cd56838",
   "metadata": {},
   "outputs": [
    {
     "data": {
      "text/plain": [
       "1"
      ]
     },
     "execution_count": 58,
     "metadata": {},
     "output_type": "execute_result"
    }
   ],
   "source": [
    "a.ndim"
   ]
  },
  {
   "cell_type": "code",
   "execution_count": 60,
   "id": "0e6f375d-436b-46cf-86b3-3f6cafef266e",
   "metadata": {},
   "outputs": [],
   "source": [
    "#önemli: Tek boyutlu array VEKTÖR dür.\n",
    "#İki boyutlyu array ise MATRİS dir."
   ]
  },
  {
   "cell_type": "code",
   "execution_count": 61,
   "id": "475e8fd2-1fdc-4d89-bfac-efabd8c098d7",
   "metadata": {},
   "outputs": [],
   "source": [
    "b=a.reshape((1,9))"
   ]
  },
  {
   "cell_type": "code",
   "execution_count": 62,
   "id": "7fe5170c-6c8b-40a7-a16e-ef14a81d8281",
   "metadata": {},
   "outputs": [
    {
     "data": {
      "text/plain": [
       "array([[1, 2, 3, 4, 5, 6, 7, 8, 9]])"
      ]
     },
     "execution_count": 62,
     "metadata": {},
     "output_type": "execute_result"
    }
   ],
   "source": [
    "b"
   ]
  },
  {
   "cell_type": "code",
   "execution_count": 63,
   "id": "e842c98d-0d04-4587-8459-136c36eda956",
   "metadata": {},
   "outputs": [
    {
     "data": {
      "text/plain": [
       "2"
      ]
     },
     "execution_count": 63,
     "metadata": {},
     "output_type": "execute_result"
    }
   ],
   "source": [
    "b.ndim"
   ]
  },
  {
   "cell_type": "code",
   "execution_count": 64,
   "id": "9383a536-9d61-423a-a750-02b85280bed0",
   "metadata": {},
   "outputs": [
    {
     "data": {
      "text/plain": [
       "1"
      ]
     },
     "execution_count": 64,
     "metadata": {},
     "output_type": "execute_result"
    }
   ],
   "source": [
    "a.ndim"
   ]
  },
  {
   "cell_type": "code",
   "execution_count": 65,
   "id": "96160f6e-dcb2-4e8b-aeda-7dac8d680768",
   "metadata": {},
   "outputs": [],
   "source": [
    "#ARRAY BİRLEŞTİRME İŞLEMİ"
   ]
  },
  {
   "cell_type": "code",
   "execution_count": 66,
   "id": "8bba501b-3e71-4cf0-9f00-0b44e417663e",
   "metadata": {},
   "outputs": [],
   "source": [
    "x=np.array([1,2,3])\n",
    "y=np.array([4,5,6])"
   ]
  },
  {
   "cell_type": "code",
   "execution_count": 67,
   "id": "e72b5404-7e03-4014-8deb-3ae366adf3db",
   "metadata": {},
   "outputs": [
    {
     "data": {
      "text/plain": [
       "array([1, 2, 3, 4, 5, 6])"
      ]
     },
     "execution_count": 67,
     "metadata": {},
     "output_type": "execute_result"
    }
   ],
   "source": [
    "np.concatenate([x,y])"
   ]
  },
  {
   "cell_type": "code",
   "execution_count": 69,
   "id": "1726019b-391f-4d69-8b7c-c7a423631c74",
   "metadata": {},
   "outputs": [],
   "source": [
    "z=np.array([7,8,9]) # listeyi de ekleyebilir miyiz bakalım."
   ]
  },
  {
   "cell_type": "code",
   "execution_count": 71,
   "id": "519d5429-d514-454b-922f-b421d8e546af",
   "metadata": {},
   "outputs": [],
   "source": [
    "r=np.concatenate([x,y,z])"
   ]
  },
  {
   "cell_type": "code",
   "execution_count": 72,
   "id": "810b874e-1311-48fe-b828-6633befb6666",
   "metadata": {},
   "outputs": [
    {
     "data": {
      "text/plain": [
       "array([1, 2, 3, 4, 5, 6, 7, 8, 9])"
      ]
     },
     "execution_count": 72,
     "metadata": {},
     "output_type": "execute_result"
    }
   ],
   "source": [
    "r"
   ]
  },
  {
   "cell_type": "code",
   "execution_count": 73,
   "id": "50468a00-be0e-45d5-89a9-91fb479c7a2d",
   "metadata": {},
   "outputs": [
    {
     "data": {
      "text/plain": [
       "1"
      ]
     },
     "execution_count": 73,
     "metadata": {},
     "output_type": "execute_result"
    }
   ],
   "source": [
    "r.ndim"
   ]
  },
  {
   "cell_type": "code",
   "execution_count": 74,
   "id": "4acda639-8370-4c18-873c-30b0d176c4f6",
   "metadata": {},
   "outputs": [],
   "source": [
    "# İki Boyut Yapalım."
   ]
  },
  {
   "cell_type": "code",
   "execution_count": 80,
   "id": "f9223d75-a8c6-41a2-a675-da182cca8e29",
   "metadata": {},
   "outputs": [],
   "source": [
    "a=np.array([[1,2,3],\n",
    "            [4,5,6]])"
   ]
  },
  {
   "cell_type": "code",
   "execution_count": 81,
   "id": "b9a18af5-3a1f-4e62-be9b-7cb43a176f29",
   "metadata": {},
   "outputs": [],
   "source": [
    "l=np.concatenate([a,a])"
   ]
  },
  {
   "cell_type": "code",
   "execution_count": 82,
   "id": "d6f32a69-4690-4c25-ac59-6d8fde1e182b",
   "metadata": {},
   "outputs": [
    {
     "data": {
      "text/plain": [
       "array([[1, 2, 3],\n",
       "       [4, 5, 6],\n",
       "       [1, 2, 3],\n",
       "       [4, 5, 6]])"
      ]
     },
     "execution_count": 82,
     "metadata": {},
     "output_type": "execute_result"
    }
   ],
   "source": [
    "l"
   ]
  },
  {
   "cell_type": "code",
   "execution_count": 83,
   "id": "f7ac1b99-9725-4d69-984e-3e6286fe048a",
   "metadata": {},
   "outputs": [
    {
     "data": {
      "text/plain": [
       "2"
      ]
     },
     "execution_count": 83,
     "metadata": {},
     "output_type": "execute_result"
    }
   ],
   "source": [
    "l.ndim"
   ]
  },
  {
   "cell_type": "code",
   "execution_count": 84,
   "id": "9b71e6b5-cade-45c8-912d-9e137a84e72d",
   "metadata": {},
   "outputs": [],
   "source": [
    "# Satır değilde sütun olarak birleştirmek istiyorum."
   ]
  },
  {
   "cell_type": "code",
   "execution_count": 87,
   "id": "dedcb2d6-362a-401c-a8f3-1be94168c2ec",
   "metadata": {},
   "outputs": [
    {
     "data": {
      "text/plain": [
       "array([[1, 2, 3, 1, 2, 3],\n",
       "       [4, 5, 6, 4, 5, 6]])"
      ]
     },
     "execution_count": 87,
     "metadata": {},
     "output_type": "execute_result"
    }
   ],
   "source": [
    "np.concatenate([a,a], axis = 1)"
   ]
  },
  {
   "cell_type": "code",
   "execution_count": 88,
   "id": "24a13638-f166-4b70-935a-ad479932d4f4",
   "metadata": {},
   "outputs": [],
   "source": [
    "#ARRAY AYIRMA İŞLEMİ"
   ]
  },
  {
   "cell_type": "code",
   "execution_count": 90,
   "id": "2b0c35c7-562a-4449-8fe1-d76e2c2cc37a",
   "metadata": {},
   "outputs": [],
   "source": [
    "x=np.array([1,2,3,99,99,3,2,1]) #Ben bunları 3 parçaya ayırmak istiyorum."
   ]
  },
  {
   "cell_type": "code",
   "execution_count": 94,
   "id": "19e50848-6835-4618-8bd2-b6ceee862ddc",
   "metadata": {},
   "outputs": [
    {
     "data": {
      "text/plain": [
       "[array([1, 2, 3]), array([99, 99]), array([3, 2, 1])]"
      ]
     },
     "execution_count": 94,
     "metadata": {},
     "output_type": "execute_result"
    }
   ],
   "source": [
    "np.split(x,[3,5])"
   ]
  },
  {
   "cell_type": "code",
   "execution_count": 95,
   "id": "80f587f8-7ed9-4e27-b6a4-8c407fbbb77f",
   "metadata": {},
   "outputs": [],
   "source": [
    "a,b,c = np.split(x, [3,5]) # Bçlünenleri 3 par.aya böldük a, b, c olarak."
   ]
  },
  {
   "cell_type": "code",
   "execution_count": 96,
   "id": "a0ad35a6-bc9d-42cb-90c5-9d16c915d7fc",
   "metadata": {},
   "outputs": [
    {
     "data": {
      "text/plain": [
       "array([1, 2, 3])"
      ]
     },
     "execution_count": 96,
     "metadata": {},
     "output_type": "execute_result"
    }
   ],
   "source": [
    "a"
   ]
  },
  {
   "cell_type": "code",
   "execution_count": 97,
   "id": "bd5b1519-5fb1-4727-b8a9-fd86eece45c6",
   "metadata": {},
   "outputs": [
    {
     "data": {
      "text/plain": [
       "array([99, 99])"
      ]
     },
     "execution_count": 97,
     "metadata": {},
     "output_type": "execute_result"
    }
   ],
   "source": [
    "b"
   ]
  },
  {
   "cell_type": "code",
   "execution_count": 98,
   "id": "8742cd6f-18e5-4b11-8e93-64195664752d",
   "metadata": {},
   "outputs": [
    {
     "data": {
      "text/plain": [
       "array([3, 2, 1])"
      ]
     },
     "execution_count": 98,
     "metadata": {},
     "output_type": "execute_result"
    }
   ],
   "source": [
    "c"
   ]
  },
  {
   "cell_type": "code",
   "execution_count": 99,
   "id": "c13fab19-479a-4047-b400-cedf261b85fc",
   "metadata": {},
   "outputs": [],
   "source": [
    "# İKİ BOYUTLU AYIRMA İŞLEMLERİ"
   ]
  },
  {
   "cell_type": "code",
   "execution_count": 100,
   "id": "d4e3d753-45a7-4f91-8464-ff1db327888e",
   "metadata": {},
   "outputs": [
    {
     "data": {
      "text/plain": [
       "array([[ 0,  1,  2,  3],\n",
       "       [ 4,  5,  6,  7],\n",
       "       [ 8,  9, 10, 11],\n",
       "       [12, 13, 14, 15]])"
      ]
     },
     "execution_count": 100,
     "metadata": {},
     "output_type": "execute_result"
    }
   ],
   "source": [
    "m= np.arange(16).reshape(4,4)\n",
    "m"
   ]
  },
  {
   "cell_type": "code",
   "execution_count": 101,
   "id": "b99dc59e-17fc-43d7-bc83-db6b854074c9",
   "metadata": {},
   "outputs": [],
   "source": [
    "#Biz şimdi ikinci satırsan sonraki kısmı silip dikey olarak yana eklemek istiyoruz."
   ]
  },
  {
   "cell_type": "code",
   "execution_count": 103,
   "id": "f4f42363-3f69-43ba-875b-06fbe293f6e3",
   "metadata": {},
   "outputs": [
    {
     "data": {
      "text/plain": [
       "[array([[0, 1, 2, 3],\n",
       "        [4, 5, 6, 7]]),\n",
       " array([[ 8,  9, 10, 11],\n",
       "        [12, 13, 14, 15]])]"
      ]
     },
     "execution_count": 103,
     "metadata": {},
     "output_type": "execute_result"
    }
   ],
   "source": [
    "np.vsplit(m, [2])"
   ]
  },
  {
   "cell_type": "code",
   "execution_count": 104,
   "id": "407d4785-a0f4-44a6-a056-bd7c85b80c5b",
   "metadata": {},
   "outputs": [],
   "source": [
    "ust, alt = np.vsplit(m, [2])"
   ]
  },
  {
   "cell_type": "code",
   "execution_count": 105,
   "id": "a011d450-dcd5-4fc3-bec3-dcb59d7e8cfb",
   "metadata": {},
   "outputs": [
    {
     "data": {
      "text/plain": [
       "array([[0, 1, 2, 3],\n",
       "       [4, 5, 6, 7]])"
      ]
     },
     "execution_count": 105,
     "metadata": {},
     "output_type": "execute_result"
    }
   ],
   "source": [
    "ust"
   ]
  },
  {
   "cell_type": "code",
   "execution_count": 106,
   "id": "80e71122-aa1b-42c2-b2ca-79745a2aa5b4",
   "metadata": {},
   "outputs": [
    {
     "data": {
      "text/plain": [
       "array([[ 8,  9, 10, 11],\n",
       "       [12, 13, 14, 15]])"
      ]
     },
     "execution_count": 106,
     "metadata": {},
     "output_type": "execute_result"
    }
   ],
   "source": [
    "alt"
   ]
  },
  {
   "cell_type": "code",
   "execution_count": 107,
   "id": "d8f4113c-647b-4273-9011-ec5585d0c4be",
   "metadata": {},
   "outputs": [
    {
     "data": {
      "text/plain": [
       "[array([[ 0,  1],\n",
       "        [ 4,  5],\n",
       "        [ 8,  9],\n",
       "        [12, 13]]),\n",
       " array([[ 2,  3],\n",
       "        [ 6,  7],\n",
       "        [10, 11],\n",
       "        [14, 15]])]"
      ]
     },
     "execution_count": 107,
     "metadata": {},
     "output_type": "execute_result"
    }
   ],
   "source": [
    "np.hsplit(m, [2])"
   ]
  },
  {
   "cell_type": "code",
   "execution_count": 108,
   "id": "12f5e1aa-1417-4048-93f4-f89fbea5167b",
   "metadata": {},
   "outputs": [],
   "source": [
    "sag, sol = np.hsplit(m, [2])"
   ]
  },
  {
   "cell_type": "code",
   "execution_count": 109,
   "id": "b3774358-2aae-4d43-9f1a-038ce31e40ed",
   "metadata": {},
   "outputs": [
    {
     "data": {
      "text/plain": [
       "array([[ 0,  1],\n",
       "       [ 4,  5],\n",
       "       [ 8,  9],\n",
       "       [12, 13]])"
      ]
     },
     "execution_count": 109,
     "metadata": {},
     "output_type": "execute_result"
    }
   ],
   "source": [
    "sag"
   ]
  },
  {
   "cell_type": "code",
   "execution_count": 110,
   "id": "3a3e3ad4-fef6-4102-b577-a2e7ddf25dbc",
   "metadata": {},
   "outputs": [
    {
     "data": {
      "text/plain": [
       "array([[ 2,  3],\n",
       "       [ 6,  7],\n",
       "       [10, 11],\n",
       "       [14, 15]])"
      ]
     },
     "execution_count": 110,
     "metadata": {},
     "output_type": "execute_result"
    }
   ],
   "source": [
    "sol"
   ]
  },
  {
   "cell_type": "code",
   "execution_count": 111,
   "id": "eb8f2902-f060-46d5-bd16-8c388c147ea4",
   "metadata": {},
   "outputs": [],
   "source": [
    "# SIRALAMA İŞLEMLERİ"
   ]
  },
  {
   "cell_type": "code",
   "execution_count": 113,
   "id": "0063e457-8384-4c95-85be-1074e2bc9e71",
   "metadata": {},
   "outputs": [],
   "source": [
    "v=np.array([2,1,4,3,5])"
   ]
  },
  {
   "cell_type": "code",
   "execution_count": 114,
   "id": "872396c4-9154-4e2e-8856-efe57287ea73",
   "metadata": {},
   "outputs": [
    {
     "data": {
      "text/plain": [
       "array([2, 1, 4, 3, 5])"
      ]
     },
     "execution_count": 114,
     "metadata": {},
     "output_type": "execute_result"
    }
   ],
   "source": [
    "v"
   ]
  },
  {
   "cell_type": "code",
   "execution_count": 115,
   "id": "5a670599-c215-4983-8c18-87ef500b1686",
   "metadata": {},
   "outputs": [
    {
     "data": {
      "text/plain": [
       "array([1, 2, 3, 4, 5])"
      ]
     },
     "execution_count": 115,
     "metadata": {},
     "output_type": "execute_result"
    }
   ],
   "source": [
    "np.sort(v) # Bu fonksiyon ile kücükten büyüge doğru sıralandı."
   ]
  },
  {
   "cell_type": "code",
   "execution_count": 116,
   "id": "27631b18-ac77-4034-b7fc-3e2f7e0f5a26",
   "metadata": {},
   "outputs": [],
   "source": [
    "v.sort() # np içinden .ağırmadığımız icin yapısını bozdu."
   ]
  },
  {
   "cell_type": "code",
   "execution_count": 117,
   "id": "6ca2a69b-42bd-4b34-9f70-9fcb3c4c7fc1",
   "metadata": {},
   "outputs": [
    {
     "data": {
      "text/plain": [
       "array([1, 2, 3, 4, 5])"
      ]
     },
     "execution_count": 117,
     "metadata": {},
     "output_type": "execute_result"
    }
   ],
   "source": [
    "v"
   ]
  },
  {
   "cell_type": "code",
   "execution_count": 118,
   "id": "a0937791-8b91-4ea8-a2cc-0e03c7a6a8c9",
   "metadata": {},
   "outputs": [],
   "source": [
    "# İKİ BOYUTLU ARRAY SIRALAMA."
   ]
  },
  {
   "cell_type": "code",
   "execution_count": 121,
   "id": "674255f4-3c15-4d57-a7ce-677cf7ed6272",
   "metadata": {},
   "outputs": [],
   "source": [
    "m= np.random.normal(20,5, (3,3))"
   ]
  },
  {
   "cell_type": "code",
   "execution_count": 122,
   "id": "c22b80fb-1356-4ed8-8ccd-f739415a7c07",
   "metadata": {},
   "outputs": [
    {
     "data": {
      "text/plain": [
       "array([[14.98315725, 22.77411986, 29.61653908],\n",
       "       [24.08063746, 21.87948964, 19.89794825],\n",
       "       [22.2346439 , 29.88186219, 10.80109653]])"
      ]
     },
     "execution_count": 122,
     "metadata": {},
     "output_type": "execute_result"
    }
   ],
   "source": [
    "m"
   ]
  },
  {
   "cell_type": "code",
   "execution_count": 123,
   "id": "3f35c9eb-7f6a-421a-b4ff-4bd8f46cb787",
   "metadata": {},
   "outputs": [],
   "source": [
    "# Buradaki iki boyutlu arrayin satırlarını sıralayalım."
   ]
  },
  {
   "cell_type": "code",
   "execution_count": 124,
   "id": "ce5fa0c5-aa04-4ef6-b5df-4d12374476d5",
   "metadata": {},
   "outputs": [
    {
     "data": {
      "text/plain": [
       "array([[14.98315725, 22.77411986, 29.61653908],\n",
       "       [19.89794825, 21.87948964, 24.08063746],\n",
       "       [10.80109653, 22.2346439 , 29.88186219]])"
      ]
     },
     "execution_count": 124,
     "metadata": {},
     "output_type": "execute_result"
    }
   ],
   "source": [
    "np.sort(m, axis = 1) # Bu şekilde satırları büyükten kücüge sıraladı."
   ]
  },
  {
   "cell_type": "code",
   "execution_count": 128,
   "id": "69f0a0bf-4d9f-402a-a65b-b9200a81eaee",
   "metadata": {},
   "outputs": [
    {
     "data": {
      "text/plain": [
       "array([[14.98315725, 21.87948964, 10.80109653],\n",
       "       [22.2346439 , 22.77411986, 19.89794825],\n",
       "       [24.08063746, 29.88186219, 29.61653908]])"
      ]
     },
     "execution_count": 128,
     "metadata": {},
     "output_type": "execute_result"
    }
   ],
   "source": [
    "np.sort(m, axis = 0) # Bu şekiklde sütunları sıraladı."
   ]
  },
  {
   "cell_type": "code",
   "execution_count": 129,
   "id": "4c4f46f9-e74e-4640-b412-9695e752e15c",
   "metadata": {},
   "outputs": [],
   "source": [
    "# Index ile Elemanlara Erişmek."
   ]
  },
  {
   "cell_type": "code",
   "execution_count": 130,
   "id": "2d5883e3-75a1-4543-804e-ac73fa709a4d",
   "metadata": {},
   "outputs": [
    {
     "data": {
      "text/plain": [
       "array([3, 8, 3, 2, 7, 7, 6, 5, 9, 5])"
      ]
     },
     "execution_count": 130,
     "metadata": {},
     "output_type": "execute_result"
    }
   ],
   "source": [
    "a = np.random.randint(10, size=10)\n",
    "a"
   ]
  },
  {
   "cell_type": "code",
   "execution_count": 131,
   "id": "0622d59f-15e1-44b5-9d29-e6341de83b16",
   "metadata": {},
   "outputs": [
    {
     "data": {
      "text/plain": [
       "3"
      ]
     },
     "execution_count": 131,
     "metadata": {},
     "output_type": "execute_result"
    }
   ],
   "source": [
    "a[0]"
   ]
  },
  {
   "cell_type": "code",
   "execution_count": 132,
   "id": "f27d703a-febf-4fca-8090-db9d048629fb",
   "metadata": {},
   "outputs": [
    {
     "data": {
      "text/plain": [
       "5"
      ]
     },
     "execution_count": 132,
     "metadata": {},
     "output_type": "execute_result"
    }
   ],
   "source": [
    "a[-1]"
   ]
  },
  {
   "cell_type": "code",
   "execution_count": 133,
   "id": "e13b06d1-1ab2-4457-9bb1-509e46d479fd",
   "metadata": {},
   "outputs": [],
   "source": [
    "a[0]=100 # 0 ıncı indexte bulunan değerin numarası \"100\" oldu artık."
   ]
  },
  {
   "cell_type": "code",
   "execution_count": 134,
   "id": "17dfced0-8131-4424-b730-94fe9191628d",
   "metadata": {},
   "outputs": [
    {
     "data": {
      "text/plain": [
       "array([100,   8,   3,   2,   7,   7,   6,   5,   9,   5])"
      ]
     },
     "execution_count": 134,
     "metadata": {},
     "output_type": "execute_result"
    }
   ],
   "source": [
    "a"
   ]
  },
  {
   "cell_type": "code",
   "execution_count": 135,
   "id": "19e588af-270c-4f8b-872e-8d1536e9d8b2",
   "metadata": {},
   "outputs": [],
   "source": [
    "# İki Boyutlu matristen bunu yapalım index ile erişme işlemini"
   ]
  },
  {
   "cell_type": "code",
   "execution_count": 136,
   "id": "ab9ff3ee-fe67-461e-8f98-89723b66fc8a",
   "metadata": {},
   "outputs": [
    {
     "data": {
      "text/plain": [
       "array([[9, 9, 0, 9, 3],\n",
       "       [5, 6, 9, 3, 5],\n",
       "       [4, 5, 9, 4, 6]])"
      ]
     },
     "execution_count": 136,
     "metadata": {},
     "output_type": "execute_result"
    }
   ],
   "source": [
    "m = np.random.randint(10, size=(3,5))\n",
    "m"
   ]
  },
  {
   "cell_type": "code",
   "execution_count": 137,
   "id": "9f09eff4-f9d9-473a-8251-8dc6519eb850",
   "metadata": {},
   "outputs": [
    {
     "data": {
      "text/plain": [
       "9"
      ]
     },
     "execution_count": 137,
     "metadata": {},
     "output_type": "execute_result"
    }
   ],
   "source": [
    "m[0,0]"
   ]
  },
  {
   "cell_type": "code",
   "execution_count": 138,
   "id": "0fc67db4-2b3b-470f-a49a-61c7ab7fca69",
   "metadata": {},
   "outputs": [
    {
     "data": {
      "text/plain": [
       "9"
      ]
     },
     "execution_count": 138,
     "metadata": {},
     "output_type": "execute_result"
    }
   ],
   "source": [
    "m[0,1]"
   ]
  },
  {
   "cell_type": "code",
   "execution_count": 141,
   "id": "defad73f-f5b8-495d-ae80-8a78e2f7d669",
   "metadata": {},
   "outputs": [
    {
     "data": {
      "text/plain": [
       "5"
      ]
     },
     "execution_count": 141,
     "metadata": {},
     "output_type": "execute_result"
    }
   ],
   "source": [
    "m[1,4]"
   ]
  },
  {
   "cell_type": "code",
   "execution_count": 142,
   "id": "c3398844-ad3d-438a-9ff5-47bccb3dc314",
   "metadata": {},
   "outputs": [],
   "source": [
    "m[1,4]=99"
   ]
  },
  {
   "cell_type": "code",
   "execution_count": 143,
   "id": "baa98f56-e82d-4c98-857b-5e062f7b3649",
   "metadata": {},
   "outputs": [
    {
     "data": {
      "text/plain": [
       "array([[ 9,  9,  0,  9,  3],\n",
       "       [ 5,  6,  9,  3, 99],\n",
       "       [ 4,  5,  9,  4,  6]])"
      ]
     },
     "execution_count": 143,
     "metadata": {},
     "output_type": "execute_result"
    }
   ],
   "source": [
    "m"
   ]
  },
  {
   "cell_type": "code",
   "execution_count": 144,
   "id": "b3bb287f-b003-4e1e-85a2-09e89be461af",
   "metadata": {},
   "outputs": [],
   "source": [
    "m[1,4]=2.2"
   ]
  },
  {
   "cell_type": "code",
   "execution_count": 145,
   "id": "d8b54f69-9ed3-4459-a217-1e4427d48ce0",
   "metadata": {},
   "outputs": [
    {
     "data": {
      "text/plain": [
       "array([[9, 9, 0, 9, 3],\n",
       "       [5, 6, 9, 3, 2],\n",
       "       [4, 5, 9, 4, 6]])"
      ]
     },
     "execution_count": 145,
     "metadata": {},
     "output_type": "execute_result"
    }
   ],
   "source": [
    "m"
   ]
  },
  {
   "cell_type": "code",
   "execution_count": 146,
   "id": "f58f64d1-6a4d-49ac-8583-fd76bf509696",
   "metadata": {},
   "outputs": [
    {
     "data": {
      "text/plain": [
       "array([20, 21, 22, 23, 24, 25, 26, 27, 28, 29])"
      ]
     },
     "execution_count": 146,
     "metadata": {},
     "output_type": "execute_result"
    }
   ],
   "source": [
    "a=np.arange(20,30)\n",
    "a"
   ]
  },
  {
   "cell_type": "code",
   "execution_count": 147,
   "id": "b0068224-465c-4a61-9d03-ea814e68ee86",
   "metadata": {},
   "outputs": [
    {
     "data": {
      "text/plain": [
       "array([20, 21, 22])"
      ]
     },
     "execution_count": 147,
     "metadata": {},
     "output_type": "execute_result"
    }
   ],
   "source": [
    "a[0:3]"
   ]
  },
  {
   "cell_type": "code",
   "execution_count": 148,
   "id": "ea6b740a-e4c4-4cd3-9951-e7c50bfffa21",
   "metadata": {},
   "outputs": [
    {
     "data": {
      "text/plain": [
       "array([20, 21, 22])"
      ]
     },
     "execution_count": 148,
     "metadata": {},
     "output_type": "execute_result"
    }
   ],
   "source": [
    "a[:3]"
   ]
  },
  {
   "cell_type": "code",
   "execution_count": 149,
   "id": "639a8fdd-a241-4a5a-bb61-575a36638a48",
   "metadata": {},
   "outputs": [
    {
     "data": {
      "text/plain": [
       "array([23, 24, 25, 26, 27, 28, 29])"
      ]
     },
     "execution_count": 149,
     "metadata": {},
     "output_type": "execute_result"
    }
   ],
   "source": [
    "a[3:]"
   ]
  },
  {
   "cell_type": "code",
   "execution_count": 150,
   "id": "557cc661-b947-4ed5-b708-d0284af46698",
   "metadata": {},
   "outputs": [
    {
     "data": {
      "text/plain": [
       "array([21, 23, 25, 27, 29])"
      ]
     },
     "execution_count": 150,
     "metadata": {},
     "output_type": "execute_result"
    }
   ],
   "source": [
    "a[1::2]"
   ]
  },
  {
   "cell_type": "code",
   "execution_count": 151,
   "id": "8fb4f0c9-537b-41e8-a6e4-c9817bb9936f",
   "metadata": {},
   "outputs": [
    {
     "data": {
      "text/plain": [
       "array([20, 22, 24, 26, 28])"
      ]
     },
     "execution_count": 151,
     "metadata": {},
     "output_type": "execute_result"
    }
   ],
   "source": [
    "a[0::2]"
   ]
  },
  {
   "cell_type": "code",
   "execution_count": 152,
   "id": "bae3174d-bfef-43c9-85ce-67b473116b74",
   "metadata": {},
   "outputs": [
    {
     "data": {
      "text/plain": [
       "array([20, 23, 26, 29])"
      ]
     },
     "execution_count": 152,
     "metadata": {},
     "output_type": "execute_result"
    }
   ],
   "source": [
    "a[0::3]"
   ]
  },
  {
   "cell_type": "code",
   "execution_count": 153,
   "id": "347ef292-34b0-44a5-afd0-a1d54e8e2424",
   "metadata": {},
   "outputs": [],
   "source": [
    " # İKİ BOYUTLU SLICE İŞLEMLERİ"
   ]
  },
  {
   "cell_type": "code",
   "execution_count": 157,
   "id": "6aa6a25a-228d-400b-98da-51fe90693807",
   "metadata": {},
   "outputs": [],
   "source": [
    "m=np.random.randint(10, size= (5,5))"
   ]
  },
  {
   "cell_type": "code",
   "execution_count": 158,
   "id": "fdf2d242-0e9e-4f3a-a937-5ecccd35a700",
   "metadata": {},
   "outputs": [
    {
     "data": {
      "text/plain": [
       "array([[2, 1, 9, 6, 7],\n",
       "       [4, 5, 4, 7, 3],\n",
       "       [3, 7, 4, 4, 7],\n",
       "       [7, 9, 7, 0, 0],\n",
       "       [6, 3, 1, 9, 1]])"
      ]
     },
     "execution_count": 158,
     "metadata": {},
     "output_type": "execute_result"
    }
   ],
   "source": [
    "m"
   ]
  },
  {
   "cell_type": "code",
   "execution_count": 168,
   "id": "6436e158-14a2-4805-bc5e-4be134b55b2d",
   "metadata": {},
   "outputs": [
    {
     "data": {
      "text/plain": [
       "array([[4, 5, 4, 7, 3],\n",
       "       [3, 7, 4, 4, 7]])"
      ]
     },
     "execution_count": 168,
     "metadata": {},
     "output_type": "execute_result"
    }
   ],
   "source": [
    "kuııo"
   ]
  },
  {
   "cell_type": "code",
   "execution_count": 160,
   "id": "f73af897-2d5a-46e2-8388-0482a8409d09",
   "metadata": {},
   "outputs": [
    {
     "data": {
      "text/plain": [
       "array([[2, 1, 9, 6, 7],\n",
       "       [4, 5, 4, 7, 3],\n",
       "       [3, 7, 4, 4, 7],\n",
       "       [7, 9, 7, 0, 0],\n",
       "       [6, 3, 1, 9, 1]])"
      ]
     },
     "execution_count": 160,
     "metadata": {},
     "output_type": "execute_result"
    }
   ],
   "source": [
    "m[:]"
   ]
  },
  {
   "cell_type": "code",
   "execution_count": 171,
   "id": "16d191af-9762-4606-a17e-d54bb8461b0b",
   "metadata": {},
   "outputs": [
    {
     "data": {
      "text/plain": [
       "array([3, 7, 4, 4, 7])"
      ]
     },
     "execution_count": 171,
     "metadata": {},
     "output_type": "execute_result"
    }
   ],
   "source": [
    "m[2,:]"
   ]
  },
  {
   "cell_type": "code",
   "execution_count": 172,
   "id": "867dad3a-c95a-4e25-a835-2ffe9ce80efa",
   "metadata": {},
   "outputs": [
    {
     "data": {
      "text/plain": [
       "array([[2, 1, 9],\n",
       "       [4, 5, 4]])"
      ]
     },
     "execution_count": 172,
     "metadata": {},
     "output_type": "execute_result"
    }
   ],
   "source": [
    "m[0:2, 0:3]"
   ]
  },
  {
   "cell_type": "code",
   "execution_count": 173,
   "id": "2e35996c-ea30-4992-9609-b5457cb4fba8",
   "metadata": {},
   "outputs": [
    {
     "data": {
      "text/plain": [
       "array([[2, 1],\n",
       "       [4, 5],\n",
       "       [3, 7],\n",
       "       [7, 9],\n",
       "       [6, 3]])"
      ]
     },
     "execution_count": 173,
     "metadata": {},
     "output_type": "execute_result"
    }
   ],
   "source": [
    "m[::,:2] #tÜM SATRIRLAR ALINDI VE İLK VE İKİNCİ SÜTUNU ALDI 2 DAHİL DEĞİL."
   ]
  },
  {
   "cell_type": "code",
   "execution_count": 174,
   "id": "d93e8388-37f6-4b42-85e4-96b4763b69c5",
   "metadata": {},
   "outputs": [
    {
     "data": {
      "text/plain": [
       "array([[4, 5],\n",
       "       [3, 7]])"
      ]
     },
     "execution_count": 174,
     "metadata": {},
     "output_type": "execute_result"
    }
   ],
   "source": [
    "m[1:3, 0:2]"
   ]
  },
  {
   "cell_type": "code",
   "execution_count": 177,
   "id": "865c6e6d-5ed1-443a-a65b-7aec38a379fe",
   "metadata": {},
   "outputs": [
    {
     "data": {
      "text/plain": [
       "array([[17, 16,  1,  3, 27],\n",
       "       [17, 24, 29, 29, 14],\n",
       "       [15, 29, 21,  2, 28],\n",
       "       [10, 26, 20, 20, 23],\n",
       "       [13, 21, 14, 22,  7]])"
      ]
     },
     "execution_count": 177,
     "metadata": {},
     "output_type": "execute_result"
    }
   ],
   "source": [
    "a = np.random.randint(30, size=(5,5))\n",
    "a"
   ]
  },
  {
   "cell_type": "code",
   "execution_count": 180,
   "id": "db2190c5-295e-45bf-ac94-1392ad966269",
   "metadata": {},
   "outputs": [
    {
     "data": {
      "text/plain": [
       "array([[17, 16],\n",
       "       [17, 24],\n",
       "       [15, 29]])"
      ]
     },
     "execution_count": 180,
     "metadata": {},
     "output_type": "execute_result"
    }
   ],
   "source": [
    "alt_a=a[0:3, 0:2]\n",
    "alt_a"
   ]
  },
  {
   "cell_type": "code",
   "execution_count": 181,
   "id": "3a9f4f4f-74e4-4bcf-9788-32b3bb5e9ba3",
   "metadata": {},
   "outputs": [],
   "source": [
    "alt_a[0,0]=9999\n",
    "alt_a[1,1]=8888"
   ]
  },
  {
   "cell_type": "code",
   "execution_count": 183,
   "id": "c3797353-ce4d-419c-9bce-566ebf98c3e1",
   "metadata": {},
   "outputs": [
    {
     "data": {
      "text/plain": [
       "array([[9999,   16],\n",
       "       [  17, 8888],\n",
       "       [  15,   29]])"
      ]
     },
     "execution_count": 183,
     "metadata": {},
     "output_type": "execute_result"
    }
   ],
   "source": [
    "alt_a"
   ]
  },
  {
   "cell_type": "code",
   "execution_count": 184,
   "id": "fb3da16d-35b4-47ec-9048-f64771d3da2d",
   "metadata": {},
   "outputs": [
    {
     "data": {
      "text/plain": [
       "array([[9999,   16,    1,    3,   27],\n",
       "       [  17, 8888,   29,   29,   14],\n",
       "       [  15,   29,   21,    2,   28],\n",
       "       [  10,   26,   20,   20,   23],\n",
       "       [  13,   21,   14,   22,    7]])"
      ]
     },
     "execution_count": 184,
     "metadata": {},
     "output_type": "execute_result"
    }
   ],
   "source": [
    "a"
   ]
  },
  {
   "cell_type": "code",
   "execution_count": 186,
   "id": "f27b7b75-956e-4f06-8297-72ddcaea51e0",
   "metadata": {},
   "outputs": [
    {
     "data": {
      "text/plain": [
       "array([[ 2, 22, 15, 15, 16],\n",
       "       [ 9, 16, 21, 19, 14],\n",
       "       [15,  9, 23, 25, 25],\n",
       "       [11, 21, 21, 13, 27],\n",
       "       [10, 21,  5, 13, 25]])"
      ]
     },
     "execution_count": 186,
     "metadata": {},
     "output_type": "execute_result"
    }
   ],
   "source": [
    "m = np.random.randint(30, size=(5,5))\n",
    "m"
   ]
  },
  {
   "cell_type": "code",
   "execution_count": 187,
   "id": "a762e05c-bc38-4a10-aab5-ffc9365e2e67",
   "metadata": {},
   "outputs": [
    {
     "data": {
      "text/plain": [
       "array([[ 2, 22],\n",
       "       [ 9, 16],\n",
       "       [15,  9]])"
      ]
     },
     "execution_count": 187,
     "metadata": {},
     "output_type": "execute_result"
    }
   ],
   "source": [
    "alt_b=m[0:3, 0:2].copy() #Ana veride hata değşiklik olmaması için COPY metodunu klullandık.\n",
    "alt_b"
   ]
  },
  {
   "cell_type": "code",
   "execution_count": 188,
   "id": "d691919a-e8a6-4129-9eb9-d3536569b15d",
   "metadata": {},
   "outputs": [],
   "source": [
    "alt_b[0,0]=9999\n",
    "alt_b[1,1]=8888"
   ]
  },
  {
   "cell_type": "code",
   "execution_count": 192,
   "id": "46f86a28-6081-4650-b501-7303068668ea",
   "metadata": {},
   "outputs": [
    {
     "data": {
      "text/plain": [
       "array([[29997,    66],\n",
       "       [   27, 26664],\n",
       "       [   45,    27]])"
      ]
     },
     "execution_count": 192,
     "metadata": {},
     "output_type": "execute_result"
    }
   ],
   "source": [
    "alt_b*3"
   ]
  },
  {
   "cell_type": "code",
   "execution_count": 191,
   "id": "4c89622b-f4e9-40de-a4b9-dc66d0a66701",
   "metadata": {},
   "outputs": [
    {
     "data": {
      "text/plain": [
       "array([[ 2, 22, 15, 15, 16],\n",
       "       [ 9, 16, 21, 19, 14],\n",
       "       [15,  9, 23, 25, 25],\n",
       "       [11, 21, 21, 13, 27],\n",
       "       [10, 21,  5, 13, 25]])"
      ]
     },
     "execution_count": 191,
     "metadata": {},
     "output_type": "execute_result"
    }
   ],
   "source": [
    "m"
   ]
  },
  {
   "cell_type": "code",
   "execution_count": 193,
   "id": "0771f82d-dd57-4c3d-89df-cb1bb2cf8069",
   "metadata": {},
   "outputs": [],
   "source": [
    "#FANCY INDEX ÇOK ÖNEMLİ BU KISIMA GEÇTİK ŞİMDİ"
   ]
  },
  {
   "cell_type": "code",
   "execution_count": 194,
   "id": "8a8b1431-f1d4-48c9-b19a-e19bd0c80d1f",
   "metadata": {},
   "outputs": [
    {
     "data": {
      "text/plain": [
       "array([ 0,  3,  6,  9, 12, 15, 18, 21, 24, 27])"
      ]
     },
     "execution_count": 194,
     "metadata": {},
     "output_type": "execute_result"
    }
   ],
   "source": [
    "v=np.arange(0,30,3)\n",
    "v"
   ]
  },
  {
   "cell_type": "code",
   "execution_count": 197,
   "id": "3aa22edc-e18b-45b8-8ffa-ae598c1a052b",
   "metadata": {},
   "outputs": [
    {
     "data": {
      "text/plain": [
       "3"
      ]
     },
     "execution_count": 197,
     "metadata": {},
     "output_type": "execute_result"
    }
   ],
   "source": [
    "v[1]"
   ]
  },
  {
   "cell_type": "code",
   "execution_count": 198,
   "id": "46a16169-dd67-4eb1-b10f-69c9962b9d5c",
   "metadata": {},
   "outputs": [
    {
     "data": {
      "text/plain": [
       "9"
      ]
     },
     "execution_count": 198,
     "metadata": {},
     "output_type": "execute_result"
    }
   ],
   "source": [
    "v[3]"
   ]
  },
  {
   "cell_type": "code",
   "execution_count": 199,
   "id": "1bfc30b8-dd27-4bc8-afe2-f2c34bf385ce",
   "metadata": {},
   "outputs": [
    {
     "data": {
      "text/plain": [
       "15"
      ]
     },
     "execution_count": 199,
     "metadata": {},
     "output_type": "execute_result"
    }
   ],
   "source": [
    "v[5]"
   ]
  },
  {
   "cell_type": "code",
   "execution_count": 200,
   "id": "68a6cc88-23be-4067-90e8-fb9f6ce61fe8",
   "metadata": {},
   "outputs": [
    {
     "data": {
      "text/plain": [
       "[3, 9, 15]"
      ]
     },
     "execution_count": 200,
     "metadata": {},
     "output_type": "execute_result"
    }
   ],
   "source": [
    "#Bunların üçünü bir arada görelim.\n",
    "[v[1], v[3], v[5]]"
   ]
  },
  {
   "cell_type": "code",
   "execution_count": 201,
   "id": "bab2ff29-da45-413e-a53a-1420f4337d66",
   "metadata": {},
   "outputs": [],
   "source": [
    "al_getir=[1,3,5]"
   ]
  },
  {
   "cell_type": "code",
   "execution_count": 202,
   "id": "625813aa-9319-40cd-8e97-7d2360c56311",
   "metadata": {},
   "outputs": [
    {
     "data": {
      "text/plain": [
       "array([ 0,  3,  6,  9, 12, 15, 18, 21, 24, 27])"
      ]
     },
     "execution_count": 202,
     "metadata": {},
     "output_type": "execute_result"
    }
   ],
   "source": [
    "v"
   ]
  },
  {
   "cell_type": "code",
   "execution_count": 203,
   "id": "45e6cb3f-96d7-498c-b09c-c0c742866bd9",
   "metadata": {},
   "outputs": [
    {
     "data": {
      "text/plain": [
       "array([ 3,  9, 15])"
      ]
     },
     "execution_count": 203,
     "metadata": {},
     "output_type": "execute_result"
    }
   ],
   "source": [
    "v[al_getir] #işte burada FANCY INDEX i kullandık."
   ]
  },
  {
   "cell_type": "code",
   "execution_count": 205,
   "id": "83873981-ab95-4786-9231-545e42f925a0",
   "metadata": {},
   "outputs": [],
   "source": [
    "git_gotur=[2,4,6]"
   ]
  },
  {
   "cell_type": "code",
   "execution_count": 206,
   "id": "974dd337-57ea-4517-b9b4-f97a1b02ee04",
   "metadata": {},
   "outputs": [
    {
     "data": {
      "text/plain": [
       "array([ 0,  3,  6,  9, 12, 15, 18, 21, 24, 27])"
      ]
     },
     "execution_count": 206,
     "metadata": {},
     "output_type": "execute_result"
    }
   ],
   "source": [
    "v"
   ]
  },
  {
   "cell_type": "code",
   "execution_count": 207,
   "id": "c4c481c1-8c93-4259-9eda-ec545e67b3ec",
   "metadata": {},
   "outputs": [
    {
     "data": {
      "text/plain": [
       "array([ 6, 12, 18])"
      ]
     },
     "execution_count": 207,
     "metadata": {},
     "output_type": "execute_result"
    }
   ],
   "source": [
    "v[git_gotur]"
   ]
  },
  {
   "cell_type": "code",
   "execution_count": 208,
   "id": "0a8e3e7e-ec31-4707-b33c-287a7e4acb54",
   "metadata": {},
   "outputs": [],
   "source": [
    "#İKİ BOYUTTA FANCY"
   ]
  },
  {
   "cell_type": "code",
   "execution_count": 214,
   "id": "70c7d279-df67-408b-98a7-ed51d43b4855",
   "metadata": {},
   "outputs": [],
   "source": [
    "m=np.arange(12).reshape((4,3))"
   ]
  },
  {
   "cell_type": "code",
   "execution_count": 215,
   "id": "9b74b100-49a2-42c7-ab33-01fc8934760d",
   "metadata": {},
   "outputs": [
    {
     "data": {
      "text/plain": [
       "array([[ 0,  1,  2],\n",
       "       [ 3,  4,  5],\n",
       "       [ 6,  7,  8],\n",
       "       [ 9, 10, 11]])"
      ]
     },
     "execution_count": 215,
     "metadata": {},
     "output_type": "execute_result"
    }
   ],
   "source": [
    "m"
   ]
  },
  {
   "cell_type": "code",
   "execution_count": 216,
   "id": "cd11b51d-bbcd-434d-99c1-181e18d1753e",
   "metadata": {},
   "outputs": [],
   "source": [
    "#Koşullu Eleman İşlemleri"
   ]
  },
  {
   "cell_type": "code",
   "execution_count": 217,
   "id": "e306de95-17a1-4763-ba74-d2d99e0d267d",
   "metadata": {},
   "outputs": [],
   "source": [
    "v=np.array([1,2,3,4,5])"
   ]
  },
  {
   "cell_type": "code",
   "execution_count": 220,
   "id": "2be1ad4c-e2b7-4d29-b11e-5f9fe2b55332",
   "metadata": {},
   "outputs": [
    {
     "data": {
      "text/plain": [
       "array([ True,  True, False, False, False])"
      ]
     },
     "execution_count": 220,
     "metadata": {},
     "output_type": "execute_result"
    }
   ],
   "source": [
    "v<3"
   ]
  },
  {
   "cell_type": "code",
   "execution_count": 221,
   "id": "1b012f52-6908-49d4-aa10-fd785682eb33",
   "metadata": {},
   "outputs": [
    {
     "data": {
      "text/plain": [
       "array([1, 2])"
      ]
     },
     "execution_count": 221,
     "metadata": {},
     "output_type": "execute_result"
    }
   ],
   "source": [
    "v[v<3]"
   ]
  },
  {
   "cell_type": "code",
   "execution_count": 222,
   "id": "a4a75554-93f2-47e9-8557-f5db176685ca",
   "metadata": {},
   "outputs": [
    {
     "data": {
      "text/plain": [
       "array([1, 2, 4, 5])"
      ]
     },
     "execution_count": 222,
     "metadata": {},
     "output_type": "execute_result"
    }
   ],
   "source": [
    "v[v!=3]"
   ]
  },
  {
   "cell_type": "code",
   "execution_count": 223,
   "id": "17b6c583-6f50-4fd8-9377-c70e0e2e65b6",
   "metadata": {},
   "outputs": [
    {
     "data": {
      "text/plain": [
       "array([0, 1, 2, 3, 4])"
      ]
     },
     "execution_count": 223,
     "metadata": {},
     "output_type": "execute_result"
    }
   ],
   "source": [
    "v-1"
   ]
  },
  {
   "cell_type": "code",
   "execution_count": 224,
   "id": "4189ffe3-6c64-489b-9617-e45ed5ebae70",
   "metadata": {},
   "outputs": [],
   "source": [
    "#UFUNC İŞLEMLERİ ÖNEMLİ"
   ]
  },
  {
   "cell_type": "code",
   "execution_count": 227,
   "id": "f4adb641-e540-4a40-ac34-a95975fe02b3",
   "metadata": {},
   "outputs": [],
   "source": [
    "# NUMPY İLE 2 BİLİNMEYENLİ DENKLEM ÇÖZÜMÜ"
   ]
  },
  {
   "cell_type": "markdown",
   "id": "f06ef31b-3af9-434a-9876-0e6b949032fe",
   "metadata": {},
   "source": [
    "5*X0+X1=12\n",
    "\n",
    "X0+3*X1=10"
   ]
  },
  {
   "cell_type": "code",
   "execution_count": 230,
   "id": "a7a7f05a-1573-4c0a-b930-a800d63c38f2",
   "metadata": {},
   "outputs": [],
   "source": [
    "a=np.array([[5,1], [1,3]])\n",
    "b=np.array([12,10])"
   ]
  },
  {
   "cell_type": "code",
   "execution_count": 231,
   "id": "ea3a7123-382b-4ed7-9679-7720a1ee0bd4",
   "metadata": {},
   "outputs": [
    {
     "data": {
      "text/plain": [
       "array([[5, 1],\n",
       "       [1, 3]])"
      ]
     },
     "execution_count": 231,
     "metadata": {},
     "output_type": "execute_result"
    }
   ],
   "source": [
    "a"
   ]
  },
  {
   "cell_type": "code",
   "execution_count": 232,
   "id": "31df3db7-5e5f-4944-9159-5fafc9ce4136",
   "metadata": {},
   "outputs": [
    {
     "data": {
      "text/plain": [
       "array([12, 10])"
      ]
     },
     "execution_count": 232,
     "metadata": {},
     "output_type": "execute_result"
    }
   ],
   "source": [
    "b"
   ]
  },
  {
   "cell_type": "code",
   "execution_count": 233,
   "id": "1ae2fba4-70db-46c6-b9e9-3bb698b3be4f",
   "metadata": {},
   "outputs": [],
   "source": [
    "x=np.linalg.solve(a,b)"
   ]
  },
  {
   "cell_type": "code",
   "execution_count": 234,
   "id": "253de30f-39b8-4a8a-853a-2bca94c99181",
   "metadata": {},
   "outputs": [
    {
     "data": {
      "text/plain": [
       "array([1.85714286, 2.71428571])"
      ]
     },
     "execution_count": 234,
     "metadata": {},
     "output_type": "execute_result"
    }
   ],
   "source": [
    "x"
   ]
  },
  {
   "cell_type": "markdown",
   "id": "55d8ad9d-564e-4e87-a257-7a4cb26aee33",
   "metadata": {},
   "source": [
    "ÖRNEK SORULAR VE ÇÖZÜMLERİ"
   ]
  },
  {
   "cell_type": "code",
   "execution_count": 236,
   "id": "5c231c68-7893-4c79-bd24-2078dd830a19",
   "metadata": {},
   "outputs": [
    {
     "data": {
      "text/plain": [
       "array([3.14, 4.  , 6.  , 1.2 ])"
      ]
     },
     "execution_count": 236,
     "metadata": {},
     "output_type": "execute_result"
    }
   ],
   "source": [
    "a=np.array([3.14, 4, 6, 1.2])\n",
    "a"
   ]
  },
  {
   "cell_type": "code",
   "execution_count": 237,
   "id": "b7569677-5a0d-40f2-aeee-cddf921ea9c0",
   "metadata": {},
   "outputs": [],
   "source": [
    "a=np.ones((2,3))"
   ]
  },
  {
   "cell_type": "code",
   "execution_count": 238,
   "id": "3d5305bd-c690-4667-a0c9-4903d42a202c",
   "metadata": {},
   "outputs": [
    {
     "data": {
      "text/plain": [
       "array([[1., 1., 1.],\n",
       "       [1., 1., 1.]])"
      ]
     },
     "execution_count": 238,
     "metadata": {},
     "output_type": "execute_result"
    }
   ],
   "source": [
    "a"
   ]
  },
  {
   "cell_type": "code",
   "execution_count": 239,
   "id": "4bbb353e-8aab-40dd-addd-d5431cf2776e",
   "metadata": {},
   "outputs": [
    {
     "data": {
      "text/plain": [
       "(2, 3)"
      ]
     },
     "execution_count": 239,
     "metadata": {},
     "output_type": "execute_result"
    }
   ],
   "source": [
    "a.shape"
   ]
  },
  {
   "cell_type": "code",
   "execution_count": 240,
   "id": "a7077277-d6e2-4747-b993-4f0098541ee2",
   "metadata": {},
   "outputs": [
    {
     "data": {
      "text/plain": [
       "2"
      ]
     },
     "execution_count": 240,
     "metadata": {},
     "output_type": "execute_result"
    }
   ],
   "source": [
    "a.ndim"
   ]
  },
  {
   "cell_type": "code",
   "execution_count": 241,
   "id": "1aeffe24-e020-4163-b38e-277e8bd1e122",
   "metadata": {},
   "outputs": [
    {
     "data": {
      "text/plain": [
       "6"
      ]
     },
     "execution_count": 241,
     "metadata": {},
     "output_type": "execute_result"
    }
   ],
   "source": [
    "a.size"
   ]
  },
  {
   "cell_type": "code",
   "execution_count": 242,
   "id": "2a0febd9-ab2b-40b5-b574-4874487972a6",
   "metadata": {},
   "outputs": [
    {
     "data": {
      "text/plain": [
       "dtype('float64')"
      ]
     },
     "execution_count": 242,
     "metadata": {},
     "output_type": "execute_result"
    }
   ],
   "source": [
    "a.dtype"
   ]
  },
  {
   "cell_type": "code",
   "execution_count": 268,
   "id": "493b5b94-1daa-41f0-af6e-491cd61cfc26",
   "metadata": {},
   "outputs": [
    {
     "data": {
      "text/plain": [
       "array([[[0, 1, 2, 0, 8],\n",
       "        [4, 6, 8, 4, 8]],\n",
       "\n",
       "       [[3, 7, 1, 4, 9],\n",
       "        [7, 6, 4, 4, 5]],\n",
       "\n",
       "       [[0, 0, 0, 9, 1],\n",
       "        [7, 2, 9, 1, 7]]])"
      ]
     },
     "execution_count": 268,
     "metadata": {},
     "output_type": "execute_result"
    }
   ],
   "source": [
    "np.random.randint(10, size=(3,2,5))"
   ]
  },
  {
   "cell_type": "code",
   "execution_count": 271,
   "id": "6a1a0b8d-824c-435e-a670-31f614865ff7",
   "metadata": {},
   "outputs": [
    {
     "data": {
      "text/plain": [
       "array([0, 1, 2, 3, 4, 5, 6, 7, 8, 9])"
      ]
     },
     "execution_count": 271,
     "metadata": {},
     "output_type": "execute_result"
    }
   ],
   "source": [
    "np.arange(0,10)"
   ]
  },
  {
   "cell_type": "code",
   "execution_count": 275,
   "id": "db3e6e60-3ff8-4b97-b655-4c981685e987",
   "metadata": {},
   "outputs": [
    {
     "data": {
      "text/plain": [
       "array([1, 2, 3, 4, 5, 6])"
      ]
     },
     "execution_count": 275,
     "metadata": {},
     "output_type": "execute_result"
    }
   ],
   "source": [
    "x=np.array([1,2,3])\n",
    "y=np.array([4,5,6])\n",
    "np.concatenate([x,y])"
   ]
  },
  {
   "cell_type": "code",
   "execution_count": 276,
   "id": "677ca391-32f0-48b5-91be-55f6d6d85683",
   "metadata": {},
   "outputs": [
    {
     "data": {
      "text/plain": [
       "array([ 5, 10, 15])"
      ]
     },
     "execution_count": 276,
     "metadata": {},
     "output_type": "execute_result"
    }
   ],
   "source": [
    "5*np.array([1,2,3])"
   ]
  },
  {
   "cell_type": "code",
   "execution_count": 277,
   "id": "f149ef51-f2f2-4623-a08a-df800d43100c",
   "metadata": {},
   "outputs": [
    {
     "data": {
      "text/plain": [
       "array([0, 2, 4, 6, 8])"
      ]
     },
     "execution_count": 277,
     "metadata": {},
     "output_type": "execute_result"
    }
   ],
   "source": [
    "np.arange(0,10,2)"
   ]
  },
  {
   "cell_type": "code",
   "execution_count": 278,
   "id": "365586b5-65b6-4b83-a319-91180c2a2c0e",
   "metadata": {},
   "outputs": [
    {
     "data": {
      "text/plain": [
       "array([1, 2, 3, 4, 5])"
      ]
     },
     "execution_count": 278,
     "metadata": {},
     "output_type": "execute_result"
    }
   ],
   "source": [
    "v=np.array([2,1,4,3,5])\n",
    "np.sort(v)"
   ]
  },
  {
   "cell_type": "code",
   "execution_count": 279,
   "id": "a780ce1a-d510-4a82-9476-ce326488fc8f",
   "metadata": {},
   "outputs": [
    {
     "data": {
      "text/plain": [
       "4"
      ]
     },
     "execution_count": 279,
     "metadata": {},
     "output_type": "execute_result"
    }
   ],
   "source": [
    "v[2]"
   ]
  },
  {
   "cell_type": "code",
   "execution_count": 283,
   "id": "ee5b08ae-d746-4fa9-a005-e7d45e204a09",
   "metadata": {},
   "outputs": [],
   "source": [
    "v=([7,3,4,7,0,9,3,2,9,2])"
   ]
  },
  {
   "cell_type": "code",
   "execution_count": 284,
   "id": "558f8062-c400-4e61-89c1-83ee254d5a81",
   "metadata": {},
   "outputs": [
    {
     "data": {
      "text/plain": [
       "9"
      ]
     },
     "execution_count": 284,
     "metadata": {},
     "output_type": "execute_result"
    }
   ],
   "source": [
    "v[-2]"
   ]
  },
  {
   "cell_type": "code",
   "execution_count": 286,
   "id": "027359da-74ed-4d6c-bf00-dbe0a12ccdd4",
   "metadata": {},
   "outputs": [
    {
     "data": {
      "text/plain": [
       "2"
      ]
     },
     "execution_count": 286,
     "metadata": {},
     "output_type": "execute_result"
    }
   ],
   "source": [
    "a.ndim"
   ]
  },
  {
   "cell_type": "code",
   "execution_count": 292,
   "id": "96ae6ac8-f01b-4df3-8623-648c21e5a4b3",
   "metadata": {},
   "outputs": [
    {
     "data": {
      "text/plain": [
       "array([[4, 7, 4, 5, 9],\n",
       "       [2, 5, 0, 7, 7],\n",
       "       [1, 9, 0, 8, 2]])"
      ]
     },
     "execution_count": 292,
     "metadata": {},
     "output_type": "execute_result"
    }
   ],
   "source": [
    "a=np.array([[4, 7, 4, 5, 9],\n",
    "[2, 5, 0, 7, 7],\n",
    "[1, 9, 0, 8, 2]])\n",
    "a"
   ]
  },
  {
   "cell_type": "code",
   "execution_count": 291,
   "id": "93ce9e53-bb0e-44e5-9a7c-b5e5629725e4",
   "metadata": {},
   "outputs": [
    {
     "data": {
      "text/plain": [
       "array([4, 0, 0])"
      ]
     },
     "execution_count": 291,
     "metadata": {},
     "output_type": "execute_result"
    }
   ],
   "source": [
    "a[:,2]"
   ]
  },
  {
   "cell_type": "code",
   "execution_count": 293,
   "id": "6375de87-5b21-4a18-a78d-929c231f8462",
   "metadata": {},
   "outputs": [],
   "source": [
    "s=np.array([ 0, 3, 6, 9, 12, 15, 18, 21, 24, 27])"
   ]
  },
  {
   "cell_type": "code",
   "execution_count": 294,
   "id": "d58f45b7-2bf9-4d81-9902-4dc4a54a62d7",
   "metadata": {},
   "outputs": [
    {
     "data": {
      "text/plain": [
       "[3, 7]"
      ]
     },
     "execution_count": 294,
     "metadata": {},
     "output_type": "execute_result"
    }
   ],
   "source": [
    "[v[1],v[3]]"
   ]
  },
  {
   "cell_type": "code",
   "execution_count": 295,
   "id": "16543d63-8c74-49c6-a98d-a312f6d49dcf",
   "metadata": {},
   "outputs": [],
   "source": [
    "v = np.array([ 0, 3, 6, 9, 12, 15, 18, 21, 24, 27])"
   ]
  },
  {
   "cell_type": "code",
   "execution_count": 297,
   "id": "dbe81d77-02d9-416f-96f8-4eab015fdf19",
   "metadata": {},
   "outputs": [
    {
     "data": {
      "text/plain": [
       "array([3, 6, 9])"
      ]
     },
     "execution_count": 297,
     "metadata": {},
     "output_type": "execute_result"
    }
   ],
   "source": [
    "v[[1,2,3]] #Fancy Index Islemi yapıldı."
   ]
  },
  {
   "cell_type": "code",
   "execution_count": null,
   "id": "815ed273-6bec-4579-aaa8-2e8928dca84a",
   "metadata": {},
   "outputs": [],
   "source": []
  }
 ],
 "metadata": {
  "kernelspec": {
   "display_name": "Python 3 (ipykernel)",
   "language": "python",
   "name": "python3"
  },
  "language_info": {
   "codemirror_mode": {
    "name": "ipython",
    "version": 3
   },
   "file_extension": ".py",
   "mimetype": "text/x-python",
   "name": "python",
   "nbconvert_exporter": "python",
   "pygments_lexer": "ipython3",
   "version": "3.9.12"
  }
 },
 "nbformat": 4,
 "nbformat_minor": 5
}
