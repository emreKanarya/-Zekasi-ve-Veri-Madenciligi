{
  "metadata": {
    "kernelspec": {
      "language": "python",
      "display_name": "Python 3",
      "name": "python3"
    },
    "language_info": {
      "name": "python",
      "version": "3.7.12",
      "mimetype": "text/x-python",
      "codemirror_mode": {
        "name": "ipython",
        "version": 3
      },
      "pygments_lexer": "ipython3",
      "nbconvert_exporter": "python",
      "file_extension": ".py"
    },
    "colab": {
      "provenance": [],
      "include_colab_link": true
    }
  },
  "nbformat_minor": 0,
  "nbformat": 4,
  "cells": [
    {
      "cell_type": "markdown",
      "metadata": {
        "id": "view-in-github",
        "colab_type": "text"
      },
      "source": [
        "<a href=\"https://colab.research.google.com/github/emreKanarya/-Zekasi-ve-Veri-Madenciligi/blob/main/hafta_8.ipynb\" target=\"_parent\"><img src=\"https://colab.research.google.com/assets/colab-badge.svg\" alt=\"Open In Colab\"/></a>"
      ]
    },
    {
      "cell_type": "code",
      "source": [
        "# This Python 3 environment comes with many helpful analytics libraries installed\n",
        "# It is defined by the kaggle/python Docker image: https://github.com/kaggle/docker-python\n",
        "# For example, here's several helpful packages to load\n",
        "\n",
        "import numpy as np # linear algebra\n",
        "import pandas as pd # data processing, CSV file I/O (e.g. pd.read_csv)\n",
        "\n",
        "# Input data files are available in the read-only \"../input/\" directory\n",
        "# For example, running this (by clicking run or pressing Shift+Enter) will list all files under the input directory\n",
        "\n",
        "import os\n",
        "for dirname, _, filenames in os.walk('/kaggle/input'):\n",
        "    for filename in filenames:\n",
        "        print(os.path.join(dirname, filename))\n",
        "\n",
        "# You can write up to 20GB to the current directory (/kaggle/working/) that gets preserved as output when you create a version using \"Save & Run All\" \n",
        "# You can also write temporary files to /kaggle/temp/, but they won't be saved outside of the current session"
      ],
      "metadata": {
        "_uuid": "8f2839f25d086af736a60e9eeb907d3b93b6e0e5",
        "_cell_guid": "b1076dfc-b9ad-4769-8c92-a6c4dae69d19",
        "execution": {
          "iopub.status.busy": "2022-05-21T11:57:02.916365Z",
          "iopub.execute_input": "2022-05-21T11:57:02.917025Z",
          "iopub.status.idle": "2022-05-21T11:57:02.952077Z",
          "shell.execute_reply.started": "2022-05-21T11:57:02.916910Z",
          "shell.execute_reply": "2022-05-21T11:57:02.951172Z"
        },
        "trusted": true,
        "id": "SYqVGRpxQX4S"
      },
      "execution_count": null,
      "outputs": []
    },
    {
      "cell_type": "code",
      "source": [
        "df=pd.read_csv(\"/kaggle/input/2022-ukraine-russian-war/russia_losses_equipment.csv\")"
      ],
      "metadata": {
        "execution": {
          "iopub.status.busy": "2022-05-21T11:58:08.768378Z",
          "iopub.execute_input": "2022-05-21T11:58:08.768648Z",
          "iopub.status.idle": "2022-05-21T11:58:08.777036Z",
          "shell.execute_reply.started": "2022-05-21T11:58:08.768619Z",
          "shell.execute_reply": "2022-05-21T11:58:08.776193Z"
        },
        "trusted": true,
        "id": "cJOih2OqQX4g"
      },
      "execution_count": null,
      "outputs": []
    },
    {
      "cell_type": "code",
      "source": [
        "df.columns"
      ],
      "metadata": {
        "execution": {
          "iopub.status.busy": "2022-05-21T14:16:18.353097Z",
          "iopub.execute_input": "2022-05-21T14:16:18.353488Z",
          "iopub.status.idle": "2022-05-21T14:16:18.360477Z",
          "shell.execute_reply.started": "2022-05-21T14:16:18.353442Z",
          "shell.execute_reply": "2022-05-21T14:16:18.359387Z"
        },
        "trusted": true,
        "id": "o-jUSN0eQX4j"
      },
      "execution_count": null,
      "outputs": []
    },
    {
      "cell_type": "code",
      "source": [
        "import matplotlib.pyplot as plt"
      ],
      "metadata": {
        "execution": {
          "iopub.status.busy": "2022-05-21T12:03:24.559366Z",
          "iopub.execute_input": "2022-05-21T12:03:24.559633Z",
          "iopub.status.idle": "2022-05-21T12:03:24.564124Z",
          "shell.execute_reply.started": "2022-05-21T12:03:24.559605Z",
          "shell.execute_reply": "2022-05-21T12:03:24.563437Z"
        },
        "trusted": true,
        "id": "ToHNoQQlQX4m"
      },
      "execution_count": null,
      "outputs": []
    },
    {
      "cell_type": "markdown",
      "source": [
        "Bu ornegimizde x ekseninde day, y ekseninde tank verileri olsun.Renk göstergesi yesil olsun"
      ],
      "metadata": {
        "id": "tGvmKkChQX4p"
      }
    },
    {
      "cell_type": "code",
      "source": [
        "plt.plot(df.day,df.tank,color=\"green\")"
      ],
      "metadata": {
        "execution": {
          "iopub.status.busy": "2022-05-21T12:05:47.203197Z",
          "iopub.execute_input": "2022-05-21T12:05:47.203521Z",
          "iopub.status.idle": "2022-05-21T12:05:47.375392Z",
          "shell.execute_reply.started": "2022-05-21T12:05:47.203486Z",
          "shell.execute_reply": "2022-05-21T12:05:47.374447Z"
        },
        "trusted": true,
        "id": "IMQ82-vQQX4w"
      },
      "execution_count": null,
      "outputs": []
    },
    {
      "cell_type": "markdown",
      "source": [
        "Histogram kullanalım veri görselleştirmemizde."
      ],
      "metadata": {
        "id": "gUo4zNzYQX52"
      }
    },
    {
      "cell_type": "code",
      "source": [
        "plt.hist(df.tank, color=\"yellow\")"
      ],
      "metadata": {
        "execution": {
          "iopub.status.busy": "2022-05-21T12:10:34.880781Z",
          "iopub.execute_input": "2022-05-21T12:10:34.881246Z",
          "iopub.status.idle": "2022-05-21T12:10:35.085266Z",
          "shell.execute_reply.started": "2022-05-21T12:10:34.881199Z",
          "shell.execute_reply": "2022-05-21T12:10:35.084239Z"
        },
        "trusted": true,
        "id": "YM-HVFTJQX56"
      },
      "execution_count": null,
      "outputs": []
    },
    {
      "cell_type": "markdown",
      "source": [
        "\"np.random.normal()\" fonksiyonu iki sayı arasında normal dağılım olacak şekilde rastgele değerler üretiyor alttaki 1000  mesela bu kadar sayı kadar."
      ],
      "metadata": {
        "id": "YTC_AXJhQX59"
      }
    },
    {
      "cell_type": "code",
      "source": [
        "x1=np.random.normal(0,0.8,1000)\n",
        "x2=np.random.normal(-2,1,1000)\n",
        "x3=np.random.normal(3,2,1000)\n",
        "plt.hist(x1,alpha=0.2)\n",
        "plt.hist(x2,alpha=0.2)\n",
        "plt.hist(x3,alpha=0.2)\n"
      ],
      "metadata": {
        "execution": {
          "iopub.status.busy": "2022-05-21T12:24:25.479333Z",
          "iopub.execute_input": "2022-05-21T12:24:25.480241Z",
          "iopub.status.idle": "2022-05-21T12:24:25.716557Z",
          "shell.execute_reply.started": "2022-05-21T12:24:25.480201Z",
          "shell.execute_reply": "2022-05-21T12:24:25.715902Z"
        },
        "trusted": true,
        "id": "3zEuA3sxQX6A"
      },
      "execution_count": null,
      "outputs": []
    },
    {
      "cell_type": "markdown",
      "source": [
        "örnek: x ekseninde day verimiz olsun ve y ekseninde hekicopter verimiz olsun bunun \"lineplot(çizgi grafiğini)\" yapalım."
      ],
      "metadata": {
        "id": "3l_6YMhBQX6F"
      }
    },
    {
      "cell_type": "code",
      "source": [
        "plt.plot(df.day, df.helicopter, color=\"blue\")\n"
      ],
      "metadata": {
        "execution": {
          "iopub.status.busy": "2022-05-21T12:29:14.312276Z",
          "iopub.execute_input": "2022-05-21T12:29:14.312571Z",
          "iopub.status.idle": "2022-05-21T12:29:14.496040Z",
          "shell.execute_reply.started": "2022-05-21T12:29:14.312542Z",
          "shell.execute_reply": "2022-05-21T12:29:14.495137Z"
        },
        "trusted": true,
        "id": "kzjm4I2pQX6J"
      },
      "execution_count": null,
      "outputs": []
    },
    {
      "cell_type": "markdown",
      "source": [
        "Renklerin farklı gösterimine bakalım. 0'a doğru yaklaştıkça siyahlaşıyor."
      ],
      "metadata": {
        "id": "Lk2dT48BQX6K"
      }
    },
    {
      "cell_type": "code",
      "source": [
        "plt.plot(df.day, df[\"anti-aircraft warfare\"],color=\"0.1\")"
      ],
      "metadata": {
        "execution": {
          "iopub.status.busy": "2022-05-21T12:32:37.287172Z",
          "iopub.execute_input": "2022-05-21T12:32:37.287460Z",
          "iopub.status.idle": "2022-05-21T12:32:37.459472Z",
          "shell.execute_reply.started": "2022-05-21T12:32:37.287432Z",
          "shell.execute_reply": "2022-05-21T12:32:37.458437Z"
        },
        "trusted": true,
        "id": "fn6J5YeIQX6M"
      },
      "execution_count": null,
      "outputs": []
    },
    {
      "cell_type": "markdown",
      "source": [
        "Farklı bir renk gösterim şekli."
      ],
      "metadata": {
        "id": "O6mcACiVQX6P"
      }
    },
    {
      "cell_type": "code",
      "source": [
        "plt.plot(df.day, df.APC, color=\"#ffdd44\")"
      ],
      "metadata": {
        "execution": {
          "iopub.status.busy": "2022-05-21T12:34:25.718899Z",
          "iopub.execute_input": "2022-05-21T12:34:25.719222Z",
          "iopub.status.idle": "2022-05-21T12:34:25.894790Z",
          "shell.execute_reply.started": "2022-05-21T12:34:25.719191Z",
          "shell.execute_reply": "2022-05-21T12:34:25.893762Z"
        },
        "trusted": true,
        "id": "sG9ZkTAkQX6R"
      },
      "execution_count": null,
      "outputs": []
    },
    {
      "cell_type": "markdown",
      "source": [
        "\"RGB\" değerleri ile renk değerini belirleyelim."
      ],
      "metadata": {
        "id": "MfR5RqqRQX6T"
      }
    },
    {
      "cell_type": "code",
      "source": [
        "plt.plot(df.day, df.drone, color=(1.0,0.2,0.3))"
      ],
      "metadata": {
        "execution": {
          "iopub.status.busy": "2022-05-21T12:35:44.342192Z",
          "iopub.execute_input": "2022-05-21T12:35:44.342465Z",
          "iopub.status.idle": "2022-05-21T12:35:44.520744Z",
          "shell.execute_reply.started": "2022-05-21T12:35:44.342436Z",
          "shell.execute_reply": "2022-05-21T12:35:44.519832Z"
        },
        "trusted": true,
        "id": "0SbxX-AAQX6V"
      },
      "execution_count": null,
      "outputs": []
    },
    {
      "cell_type": "markdown",
      "source": [
        "\"linestyle\" fonksiyonunu kullanalım. Bu fonksiyon çizgilerin ne şekilde olacağını belirtiyor."
      ],
      "metadata": {
        "id": "_In2zPAIQX6X"
      }
    },
    {
      "cell_type": "code",
      "source": [
        "plt.plot(df.day, df.tank, color=\"red\",linestyle=\"solid\")\n",
        "plt.plot(df.day, df.helicopter, color=\"g\",linestyle=\"dashed\")\n",
        "plt.plot(df.day, df[\"anti-aircraft warfare\"], color=\"black\",linestyle=\"dotted\")\n",
        "plt.plot(df.day, df.drone, color=\"pink\",linestyle=\":\")"
      ],
      "metadata": {
        "execution": {
          "iopub.status.busy": "2022-05-21T12:42:54.227837Z",
          "iopub.execute_input": "2022-05-21T12:42:54.228400Z",
          "iopub.status.idle": "2022-05-21T12:42:54.413071Z",
          "shell.execute_reply.started": "2022-05-21T12:42:54.228350Z",
          "shell.execute_reply": "2022-05-21T12:42:54.412085Z"
        },
        "trusted": true,
        "id": "gSDI835xQX6Y"
      },
      "execution_count": null,
      "outputs": []
    },
    {
      "cell_type": "markdown",
      "source": [
        "\"plt.xlim(5,20)\" özelliğini göreceğiz.Bu bize 5. ve 20. günler arasındaki değerleri x eksenin gösteriyor.\n",
        "\"plt.ylim(100,500)\" bu da bize y eksenindeki değerer günleri arasıdaki değerleri bize göstericek."
      ],
      "metadata": {
        "id": "kF64yvKlQX7L"
      }
    },
    {
      "cell_type": "code",
      "source": [
        "plt.plot(df.day, df.tank)\n",
        "plt.xlim(5,20)\n",
        "plt.ylim(100,500)"
      ],
      "metadata": {
        "execution": {
          "iopub.status.busy": "2022-05-21T12:49:57.539382Z",
          "iopub.execute_input": "2022-05-21T12:49:57.539715Z",
          "iopub.status.idle": "2022-05-21T12:49:57.734404Z",
          "shell.execute_reply.started": "2022-05-21T12:49:57.539673Z",
          "shell.execute_reply": "2022-05-21T12:49:57.733497Z"
        },
        "trusted": true,
        "id": "eOFEU1xJQX7O"
      },
      "execution_count": null,
      "outputs": []
    },
    {
      "cell_type": "markdown",
      "source": [
        "Yukaridaki limitleri \"axis([])\" ile de yapabiliriz."
      ],
      "metadata": {
        "id": "DyIUJMOaQX7Q"
      }
    },
    {
      "cell_type": "code",
      "source": [
        "plt.plot(df.day, df.tank)\n",
        "plt.axis([5,20,100,500])"
      ],
      "metadata": {
        "execution": {
          "iopub.status.busy": "2022-05-21T12:52:01.887673Z",
          "iopub.execute_input": "2022-05-21T12:52:01.888647Z",
          "iopub.status.idle": "2022-05-21T12:52:02.077951Z",
          "shell.execute_reply.started": "2022-05-21T12:52:01.888598Z",
          "shell.execute_reply": "2022-05-21T12:52:02.077135Z"
        },
        "trusted": true,
        "id": "FMCkyYi0QX7S"
      },
      "execution_count": null,
      "outputs": []
    },
    {
      "cell_type": "code",
      "source": [
        "x=np.linspace(0,10,1000)\n",
        "plt.plot(x,np.sin(x))\n",
        "\n"
      ],
      "metadata": {
        "execution": {
          "iopub.status.busy": "2022-05-21T12:58:47.799357Z",
          "iopub.execute_input": "2022-05-21T12:58:47.799685Z",
          "iopub.status.idle": "2022-05-21T12:58:47.987202Z",
          "shell.execute_reply.started": "2022-05-21T12:58:47.799650Z",
          "shell.execute_reply": "2022-05-21T12:58:47.986193Z"
        },
        "trusted": true,
        "id": "5EvSxjM5QX7T"
      },
      "execution_count": null,
      "outputs": []
    },
    {
      "cell_type": "markdown",
      "source": [
        "Veri görselimize \"Başlık\" ekleyebiliriz. Daha sonra x ve y eksenlerine isim verelim. "
      ],
      "metadata": {
        "id": "7c-Y4skyQX7X"
      }
    },
    {
      "cell_type": "code",
      "source": [
        "plt.plot(df.day,df.tank)\n",
        "plt.plot(\"Günlük Toplam Tank Kaybı\")\n",
        "plt.xlabel(\"Gün\")\n",
        "plt.ylabel(\"Tank\")"
      ],
      "metadata": {
        "execution": {
          "iopub.status.busy": "2022-05-21T13:04:50.046171Z",
          "iopub.execute_input": "2022-05-21T13:04:50.046495Z",
          "iopub.status.idle": "2022-05-21T13:04:50.205217Z",
          "shell.execute_reply.started": "2022-05-21T13:04:50.046461Z",
          "shell.execute_reply": "2022-05-21T13:04:50.204207Z"
        },
        "trusted": true,
        "id": "XWs3ETHfQX7Y"
      },
      "execution_count": null,
      "outputs": []
    },
    {
      "cell_type": "markdown",
      "source": [
        "Örnek Sorular: 1)EN FAZLA HANGİ EKİPMAN KAYBEDİLMİŞTİR?\n",
        "2)Hangi günde en fazla artış olmuş olabilir ve hangi ekipmandan?"
      ],
      "metadata": {
        "id": "6ME_gJuTQX7Z"
      }
    },
    {
      "cell_type": "code",
      "source": [
        " df.max()"
      ],
      "metadata": {
        "execution": {
          "iopub.status.busy": "2022-05-21T13:18:41.275696Z",
          "iopub.execute_input": "2022-05-21T13:18:41.276014Z",
          "iopub.status.idle": "2022-05-21T13:18:41.286644Z",
          "shell.execute_reply.started": "2022-05-21T13:18:41.275981Z",
          "shell.execute_reply": "2022-05-21T13:18:41.285696Z"
        },
        "trusted": true,
        "id": "2mn_syLwQX7a"
      },
      "execution_count": null,
      "outputs": []
    },
    {
      "cell_type": "markdown",
      "source": [
        "\"plt.figure\" fonks,yonu çizim alanlarını parçalara, alanlara ayırmaya yarayan bir fonksiyondur.\n",
        "Biz normalde plot diyerek çizimlerimizi tek bir grafik de gösteriyoduk fakat \"plt.subplot\" fonksiyonu ile farklı alanlarda gösterebiliyoruz.\n",
        "subplotfonksiyonu 3 tane parametre alıyor, bunlar:\n",
        "Örnek:subplot(2,1,1)\n",
        "bu 2 satır ve 1 sütundan oluşan en sondaki 1 ise ben 1. grafiği çizdiriyorum anlamını taşıyor."
      ],
      "metadata": {
        "id": "AcDu6eZWQX7b"
      }
    },
    {
      "cell_type": "code",
      "source": [
        "#Örnek\n",
        "plt.figure()\n",
        "plt.subplot(2,1,1)#2 satır 1 sütun ve 1.grafiği çizecek\n",
        "#Bu grafikte day ve tank verilerini göstereyim\n",
        "plt.plot(df.day,df.tank)\n",
        "plt.subplot(2,1,2)#2 satır 1 sütun ve 2.grafiği göstericek\n",
        "plt.plot(df.day,df.APC)"
      ],
      "metadata": {
        "execution": {
          "iopub.status.busy": "2022-05-21T13:27:39.163885Z",
          "iopub.execute_input": "2022-05-21T13:27:39.164412Z",
          "iopub.status.idle": "2022-05-21T13:27:39.403098Z",
          "shell.execute_reply.started": "2022-05-21T13:27:39.164360Z",
          "shell.execute_reply": "2022-05-21T13:27:39.402203Z"
        },
        "trusted": true,
        "id": "Shnxxr0_QX7c"
      },
      "execution_count": null,
      "outputs": []
    },
    {
      "cell_type": "markdown",
      "source": [
        "Peki 1 satır ve 2 sütundan oluşan bir grafik gösterimi yapalım."
      ],
      "metadata": {
        "id": "g0CQ8jGPQX7e"
      }
    },
    {
      "cell_type": "code",
      "source": [
        "#Örnek\n",
        "plt.figure()\n",
        "plt.subplot(1,2,1)#2 satır 1 sütun ve 1.grafiği çizecek\n",
        "#Bu grafikte day ve tank verilerini göstereyim\n",
        "plt.plot(df.day,df.tank)\n",
        "plt.subplot(1,2,2)#2 satır 1 sütun ve 2.grafiği göstericek\n",
        "plt.plot(df.day,df.APC)"
      ],
      "metadata": {
        "execution": {
          "iopub.status.busy": "2022-05-21T13:29:00.298332Z",
          "iopub.execute_input": "2022-05-21T13:29:00.298648Z",
          "iopub.status.idle": "2022-05-21T13:29:00.559871Z",
          "shell.execute_reply.started": "2022-05-21T13:29:00.298613Z",
          "shell.execute_reply": "2022-05-21T13:29:00.559249Z"
        },
        "trusted": true,
        "id": "EyAbvbT1QX7f"
      },
      "execution_count": null,
      "outputs": []
    },
    {
      "cell_type": "markdown",
      "source": [
        "Örnek-3: 2 satır, 2 sütun dan oluşan ve 1 ile 4 alanlarda grafik gösterimi yapılacak desem bunu yapın lütfen."
      ],
      "metadata": {
        "id": "1VJJCTgEQX7i"
      }
    },
    {
      "cell_type": "code",
      "source": [
        "plt.figure()\n",
        "plt.subplot(2,2,1)#2 satır 1 sütun ve 1.grafiği çizecek\n",
        "#Bu grafikte day ve tank verilerini göstereyim\n",
        "plt.plot(df.day,df.tank)\n",
        "plt.subplot(2,2,4)#2 satır 1 sütun ve 2.grafiği göstericek\n",
        "plt.plot (df.day,df.APC)"
      ],
      "metadata": {
        "execution": {
          "iopub.status.busy": "2022-05-21T13:30:34.287373Z",
          "iopub.execute_input": "2022-05-21T13:30:34.287667Z",
          "iopub.status.idle": "2022-05-21T13:30:34.530298Z",
          "shell.execute_reply.started": "2022-05-21T13:30:34.287636Z",
          "shell.execute_reply": "2022-05-21T13:30:34.529730Z"
        },
        "trusted": true,
        "id": "n21q-mqCQX7j"
      },
      "execution_count": null,
      "outputs": []
    },
    {
      "cell_type": "markdown",
      "source": [
        "Örnek-4: 2 satır ve 3 sütundan oluşan bir grafik oluşturun ve buraya 4 tane rastgele kaybedilen ekipmanı yerleştirin ve 1.sine,3.süne,5 ve 6 ya yerleştirin."
      ],
      "metadata": {
        "id": "nogqwYzNQX7k"
      }
    },
    {
      "cell_type": "code",
      "source": [
        "plt.figure()\n",
        "plt.subplot(2,3,1)#2 satır 1 sütun ve 1.grafiği çizecek\n",
        "#Bu grafikte day ve tank verilerini göstereyim\n",
        "plt.plot(df.day,df.tank,color=\"g\")\n",
        "plt.title(\"Tank\")\n",
        "plt.xlabel(\"day\")\n",
        "plt.ylabel(\"tank\")\n",
        "plt.subplot(2,3,3)#2 satır 1 sütun ve 2.grafiği göstericek\n",
        "plt.plot (df.day,df.APC,color=\"black\")\n",
        "plt.title(\"APC\")\n",
        "plt.xlabel(\"day\")\n",
        "plt.ylabel(\"APC\")\n",
        "plt.subplot(2,3,5)#2 satır 1 sütun ve 2.grafiği göstericek\n",
        "plt.plot (df.day,df.drone,color=\"blue\")\n",
        "plt.title(\"Drone\")\n",
        "plt.xlabel(\"day\")\n",
        "plt.ylabel(\"drone\")\n",
        "plt.subplot(2,3,6)#2 satır 1 sütun ve 2.grafiği göstericek\n",
        "plt.plot (df.day,df.helicopter,color=\"red\")\n",
        "plt.title(\"Helicopter\")\n",
        "plt.xlabel(\"day\")\n",
        "plt.ylabel(\"helicopter\")\n"
      ],
      "metadata": {
        "execution": {
          "iopub.status.busy": "2022-05-21T13:45:00.738530Z",
          "iopub.execute_input": "2022-05-21T13:45:00.739305Z",
          "iopub.status.idle": "2022-05-21T13:45:01.126486Z",
          "shell.execute_reply.started": "2022-05-21T13:45:00.739247Z",
          "shell.execute_reply": "2022-05-21T13:45:01.125719Z"
        },
        "trusted": true,
        "id": "1GoaOtH1QX7l"
      },
      "execution_count": null,
      "outputs": []
    },
    {
      "cell_type": "markdown",
      "source": [
        "Yukarıdaki işlemi başka bir şekilde yapabiliriz.\n",
        "\"sharex=True\" bu ifade x eksenlerinin hepsini aynı yapıyor."
      ],
      "metadata": {
        "id": "UEgiz_3PQX7n"
      }
    },
    {
      "cell_type": "code",
      "source": [
        "fig, ax=plt.subplots(2,sharex=True)\n",
        "ax[0].plot(df.day,df.tank)\n",
        "ax[0].set_title(\"Tank\")#Bu gösterimde grafiğin başlığını bu şekilde belirtiyoruz.\n",
        "ax[0].set_xlabel(\"Gün\")#x ekseninin adını belirledik.\n",
        "ax[1].plot(df.day,df.drone)"
      ],
      "metadata": {
        "execution": {
          "iopub.status.busy": "2022-05-21T13:50:17.533749Z",
          "iopub.execute_input": "2022-05-21T13:50:17.534083Z",
          "iopub.status.idle": "2022-05-21T13:50:17.795479Z",
          "shell.execute_reply.started": "2022-05-21T13:50:17.534048Z",
          "shell.execute_reply": "2022-05-21T13:50:17.794610Z"
        },
        "trusted": true,
        "id": "0ONanMkRQX7o"
      },
      "execution_count": null,
      "outputs": []
    },
    {
      "cell_type": "markdown",
      "source": [
        "Grafiğin tipini ve şeklini yani çizginin belirlenmesi için şunu yapıyoruz.\n",
        "Scatter saçılım grafiği olmasını sağlar,marker ise çizginin ne şekilde olacağını gösterir."
      ],
      "metadata": {
        "id": "yOFiKhUVQX7o"
      }
    },
    {
      "cell_type": "code",
      "source": [
        "plt.scatter(df.day, df.tank,color=\"red\", marker=\"x\",alpha=0.8)#marker ile şeklimiz x olarak gözükecek.\n",
        "plt.plot(df.day,df.drone,\"o\",alpha=0.8) #\"o\" parametrresi ile scatter a dönüşüyor ay nı şey.\n",
        "plt.bar(df.day,df.APC,alpha=0.3,color=\"green\")#Grafiğimizin çubuk grafik olmasını sağlar."
      ],
      "metadata": {
        "execution": {
          "iopub.status.busy": "2022-05-21T13:59:35.457577Z",
          "iopub.execute_input": "2022-05-21T13:59:35.458268Z",
          "iopub.status.idle": "2022-05-21T13:59:35.783301Z",
          "shell.execute_reply.started": "2022-05-21T13:59:35.458216Z",
          "shell.execute_reply": "2022-05-21T13:59:35.782241Z"
        },
        "trusted": true,
        "id": "J_D9uXlIQX7p"
      },
      "execution_count": null,
      "outputs": []
    },
    {
      "cell_type": "code",
      "source": [
        "plt.plot(df.day,df.tank,\"-ok\",\n",
        "        markersize=5,#Şeklin boyut büyüklüğü\n",
        "        linewidth=1,#Çizginn genişliğini\n",
        "        markerfacecolor=\"red\",#cismin rengini\n",
        "        markeredgecolor=\"blue\",\n",
        "         markeredgewidth=1)#Bu \"-ok\" ifadesi şekillerin çizgiler ile birleşmesini sağlar.\n"
      ],
      "metadata": {
        "execution": {
          "iopub.status.busy": "2022-05-21T14:07:06.885051Z",
          "iopub.execute_input": "2022-05-21T14:07:06.886296Z",
          "iopub.status.idle": "2022-05-21T14:07:07.058631Z",
          "shell.execute_reply.started": "2022-05-21T14:07:06.886130Z",
          "shell.execute_reply": "2022-05-21T14:07:07.057672Z"
        },
        "trusted": true,
        "id": "ExT_QMHWQX7r"
      },
      "execution_count": null,
      "outputs": []
    },
    {
      "cell_type": "markdown",
      "source": [
        "plt.scatter yazın, x eksenine günleri kleyin, y eksenine tankları ekleyin.\n",
        "\"S\" parametresi tüm değerleri o boyutta yapıyor. "
      ],
      "metadata": {
        "id": "AMMn31X5QX7w"
      }
    },
    {
      "cell_type": "code",
      "source": [
        "plt.scatter(df.day, df.tank,s=100,color=\"red\", marker=\"x\",alpha=0.8)"
      ],
      "metadata": {
        "execution": {
          "iopub.status.busy": "2022-05-21T14:16:03.254838Z",
          "iopub.execute_input": "2022-05-21T14:16:03.255306Z",
          "iopub.status.idle": "2022-05-21T14:16:03.430216Z",
          "shell.execute_reply.started": "2022-05-21T14:16:03.255271Z",
          "shell.execute_reply": "2022-05-21T14:16:03.429261Z"
        },
        "trusted": true,
        "id": "yCIh2jRCQX7x"
      },
      "execution_count": null,
      "outputs": []
    },
    {
      "cell_type": "code",
      "source": [
        "df.max()\n",
        "df.tank"
      ],
      "metadata": {
        "execution": {
          "iopub.status.busy": "2022-05-21T14:18:09.210536Z",
          "iopub.execute_input": "2022-05-21T14:18:09.210842Z",
          "iopub.status.idle": "2022-05-21T14:18:09.219440Z",
          "shell.execute_reply.started": "2022-05-21T14:18:09.210804Z",
          "shell.execute_reply": "2022-05-21T14:18:09.218723Z"
        },
        "trusted": true,
        "id": "Sf-JIjo1QX75"
      },
      "execution_count": null,
      "outputs": []
    }
  ]
}