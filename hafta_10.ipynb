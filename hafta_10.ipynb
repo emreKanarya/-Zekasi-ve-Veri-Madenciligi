{
  "metadata": {
    "kernelspec": {
      "language": "python",
      "display_name": "Python 3",
      "name": "python3"
    },
    "language_info": {
      "name": "python",
      "version": "3.7.12",
      "mimetype": "text/x-python",
      "codemirror_mode": {
        "name": "ipython",
        "version": 3
      },
      "pygments_lexer": "ipython3",
      "nbconvert_exporter": "python",
      "file_extension": ".py"
    },
    "colab": {
      "provenance": [],
      "collapsed_sections": [],
      "include_colab_link": true
    }
  },
  "nbformat_minor": 0,
  "nbformat": 4,
  "cells": [
    {
      "cell_type": "markdown",
      "metadata": {
        "id": "view-in-github",
        "colab_type": "text"
      },
      "source": [
        "<a href=\"https://colab.research.google.com/github/emreKanarya/-Zekasi-ve-Veri-Madenciligi/blob/main/hafta_10.ipynb\" target=\"_parent\"><img src=\"https://colab.research.google.com/assets/colab-badge.svg\" alt=\"Open In Colab\"/></a>"
      ]
    },
    {
      "cell_type": "code",
      "source": [
        "# This Python 3 environment comes with many helpful analytics libraries installed\n",
        "# It is defined by the kaggle/python Docker image: https://github.com/kaggle/docker-python\n",
        "# For example, here's several helpful packages to load\n",
        "\n",
        "import numpy as np # linear algebra\n",
        "import pandas as pd # data processing, CSV file I/O (e.g. pd.read_csv)\n",
        "\n",
        "# Input data files are available in the read-only \"../input/\" directory\n",
        "# For example, running this (by clicking run or pressing Shift+Enter) will list all files under the input directory\n",
        "\n",
        "import os\n",
        "for dirname, _, filenames in os.walk('/kaggle/input'):\n",
        "    for filename in filenames:\n",
        "        print(os.path.join(dirname, filename))\n",
        "\n",
        "# You can write up to 20GB to the current directory (/kaggle/working/) that gets preserved as output when you create a version using \"Save & Run All\" \n",
        "# You can also write temporary files to /kaggle/temp/, but they won't be saved outside of the current session"
      ],
      "metadata": {
        "_uuid": "8f2839f25d086af736a60e9eeb907d3b93b6e0e5",
        "_cell_guid": "b1076dfc-b9ad-4769-8c92-a6c4dae69d19",
        "execution": {
          "iopub.status.busy": "2022-05-24T11:12:59.178468Z",
          "iopub.execute_input": "2022-05-24T11:12:59.178834Z",
          "iopub.status.idle": "2022-05-24T11:12:59.190942Z",
          "shell.execute_reply.started": "2022-05-24T11:12:59.178805Z",
          "shell.execute_reply": "2022-05-24T11:12:59.189867Z"
        },
        "trusted": true,
        "id": "Qb_b7Rt07kzw"
      },
      "execution_count": null,
      "outputs": []
    },
    {
      "cell_type": "code",
      "source": [
        "import numpy as np\n",
        "import pandas as pd"
      ],
      "metadata": {
        "execution": {
          "iopub.status.busy": "2022-05-24T11:13:03.473146Z",
          "iopub.execute_input": "2022-05-24T11:13:03.474138Z",
          "iopub.status.idle": "2022-05-24T11:13:03.477624Z",
          "shell.execute_reply.started": "2022-05-24T11:13:03.474074Z",
          "shell.execute_reply": "2022-05-24T11:13:03.476831Z"
        },
        "trusted": true,
        "id": "SMQSu1yZ7kz3"
      },
      "execution_count": null,
      "outputs": []
    },
    {
      "cell_type": "code",
      "source": [
        "data=pd.read_csv(\"/kaggle/input/2022-ukraine-russian-war/russia_losses_equipment.csv\")"
      ],
      "metadata": {
        "execution": {
          "iopub.status.busy": "2022-05-24T11:13:47.622354Z",
          "iopub.execute_input": "2022-05-24T11:13:47.622752Z",
          "iopub.status.idle": "2022-05-24T11:13:47.633367Z",
          "shell.execute_reply.started": "2022-05-24T11:13:47.622723Z",
          "shell.execute_reply": "2022-05-24T11:13:47.632500Z"
        },
        "trusted": true,
        "id": "dzFZDCCq7kz5"
      },
      "execution_count": null,
      "outputs": []
    },
    {
      "cell_type": "code",
      "source": [
        "import matplotlib.pyplot as plt\n",
        "plt.scatter(data.aircraft,data.tank)"
      ],
      "metadata": {
        "execution": {
          "iopub.status.busy": "2022-05-24T11:13:49.999502Z",
          "iopub.execute_input": "2022-05-24T11:13:50.000129Z",
          "iopub.status.idle": "2022-05-24T11:13:50.157980Z",
          "shell.execute_reply.started": "2022-05-24T11:13:50.000099Z",
          "shell.execute_reply": "2022-05-24T11:13:50.156772Z"
        },
        "trusted": true,
        "id": "Jz7sfj897kz6"
      },
      "execution_count": null,
      "outputs": []
    },
    {
      "cell_type": "code",
      "source": [
        "from sklearn.linear_model import LinearRegression\n",
        "lr1=LinearRegression()\n",
        "x=data.aircraft.values.reshape(-1,1)\n",
        "y=data.tank.values.reshape(-1,1)\n",
        "x.shape\n",
        "y.shape"
      ],
      "metadata": {
        "execution": {
          "iopub.status.busy": "2022-05-24T11:13:52.763198Z",
          "iopub.execute_input": "2022-05-24T11:13:52.763454Z",
          "iopub.status.idle": "2022-05-24T11:13:52.770700Z",
          "shell.execute_reply.started": "2022-05-24T11:13:52.763432Z",
          "shell.execute_reply": "2022-05-24T11:13:52.769671Z"
        },
        "trusted": true,
        "id": "_ZaNfhHy7kz6"
      },
      "execution_count": null,
      "outputs": []
    },
    {
      "cell_type": "code",
      "source": [
        "from sklearn.linear_model import LinearRegression\n",
        "lr1=LinearRegression()\n",
        "x=data.aircraft.values.reshape(-1,1)\n",
        "y=data.tank.values.reshape(-1,1)\n",
        "x.shape\n",
        "y.shape\n",
        "lr1.fit(x,y)#Bununla artık linear regresyonumu oluşturdum."
      ],
      "metadata": {
        "execution": {
          "iopub.status.busy": "2022-05-24T11:13:57.074829Z",
          "iopub.execute_input": "2022-05-24T11:13:57.075220Z",
          "iopub.status.idle": "2022-05-24T11:13:57.084695Z",
          "shell.execute_reply.started": "2022-05-24T11:13:57.075196Z",
          "shell.execute_reply": "2022-05-24T11:13:57.083608Z"
        },
        "trusted": true,
        "id": "RDSzzgDC7kz8"
      },
      "execution_count": null,
      "outputs": []
    },
    {
      "cell_type": "code",
      "source": [
        "from sklearn.model_selection import train_test_split #Bu kütüphane bize bu veri setini belli oranda eğitim için belli oranda test için otomatik olarak oluşturmamızı sağlayan bir kütüphanedir.\n",
        "from sklearn.linear_model import LinearRegression # Bu kütüphane bizim linear regresyon oluşturabilmemiz için gereken kütüphanedir.\n",
        "from sklearn.metrics import r2_score # Bu kütüphanede "
      ],
      "metadata": {
        "execution": {
          "iopub.status.busy": "2022-05-24T11:13:59.158295Z",
          "iopub.execute_input": "2022-05-24T11:13:59.158524Z",
          "iopub.status.idle": "2022-05-24T11:13:59.163390Z",
          "shell.execute_reply.started": "2022-05-24T11:13:59.158500Z",
          "shell.execute_reply": "2022-05-24T11:13:59.162504Z"
        },
        "trusted": true,
        "id": "mac7AJLl7kz9"
      },
      "execution_count": null,
      "outputs": []
    },
    {
      "cell_type": "code",
      "source": [
        "data=pd.read_csv(\"/kaggle/input/2022-ukraine-russian-war/russia_losses_equipment.csv\")"
      ],
      "metadata": {
        "execution": {
          "iopub.status.busy": "2022-05-24T09:23:33.623468Z",
          "iopub.execute_input": "2022-05-24T09:23:33.623681Z",
          "iopub.status.idle": "2022-05-24T09:23:33.641887Z",
          "shell.execute_reply.started": "2022-05-24T09:23:33.623659Z",
          "shell.execute_reply": "2022-05-24T09:23:33.640926Z"
        },
        "trusted": true,
        "id": "1k9xKsvT7kz_"
      },
      "execution_count": null,
      "outputs": []
    },
    {
      "cell_type": "code",
      "source": [
        "data.head()"
      ],
      "metadata": {
        "execution": {
          "iopub.status.busy": "2022-05-24T11:14:02.221551Z",
          "iopub.execute_input": "2022-05-24T11:14:02.221865Z",
          "iopub.status.idle": "2022-05-24T11:14:02.245338Z",
          "shell.execute_reply.started": "2022-05-24T11:14:02.221829Z",
          "shell.execute_reply": "2022-05-24T11:14:02.244746Z"
        },
        "trusted": true,
        "id": "ITrPQr4M7kz_"
      },
      "execution_count": null,
      "outputs": []
    },
    {
      "cell_type": "markdown",
      "source": [
        "Regresyon ile bagımsız degiskenler ile bagımlı degiskeni tahmin etmeye calısıyoruz formül yardımıyla.\n",
        "Biz dogrusal regresyon ile 1 x ve y yi tahmin etmeye çalıstık fakat \"Çoklu Regresyon\" ile birden fazla x ile y yi tahmin etmeye calısıcagız."
      ],
      "metadata": {
        "id": "dj7LeNC17k0B"
      }
    },
    {
      "cell_type": "code",
      "source": [
        "#Bu ornegimizde \"helikopter\" ve \"uçak\" kaybı verileri ile \"tankı\" tahmin etmeye calısacagız. \n",
        "X=data.iloc[:,2:4].values #Burada bütün satırları alve 2. ve 3. sütunu al dedik burada.\n",
        "#Bunun sadece values lerini alıyorum, reshape yapmıyorum çünkü bu 2 boyutlu.Reshape(-1,1) demek\n",
        "#Örneğin 50 tane kayıt varsa \"50, boşluk\" yapıyordu onu biz \"50,1\" e dönüştürmek için reshape yapıyorduk. \n",
        "y=data.tank.values.reshape(-1,1) #Burada ise sadece tank değeri var. \n",
        "data.iloc[:,2:4].head()"
      ],
      "metadata": {
        "execution": {
          "iopub.status.busy": "2022-05-24T09:31:46.050171Z",
          "iopub.execute_input": "2022-05-24T09:31:46.05046Z",
          "iopub.status.idle": "2022-05-24T09:31:46.070805Z",
          "shell.execute_reply.started": "2022-05-24T09:31:46.050425Z",
          "shell.execute_reply": "2022-05-24T09:31:46.06952Z"
        },
        "trusted": true,
        "id": "XG9qKHhU7k0E"
      },
      "execution_count": null,
      "outputs": []
    },
    {
      "cell_type": "markdown",
      "source": [
        "Daha sonra bunları eğitim verileri ve test verileri olarak bölelim."
      ],
      "metadata": {
        "id": "3o3RpffW7k0F"
      }
    },
    {
      "cell_type": "code",
      "source": [
        "from sklearn.model_selection import train_test_split\n",
        "X_train,X_test,y_train,y_test=train_test_split(X,y,test_size=0.33,random_state=42) #eğitim verisi ve test verisi olarak 2 ye böldük."
      ],
      "metadata": {
        "execution": {
          "iopub.status.busy": "2022-05-24T10:04:38.371879Z",
          "iopub.execute_input": "2022-05-24T10:04:38.372124Z",
          "iopub.status.idle": "2022-05-24T10:04:38.377679Z",
          "shell.execute_reply.started": "2022-05-24T10:04:38.372101Z",
          "shell.execute_reply": "2022-05-24T10:04:38.376677Z"
        },
        "trusted": true,
        "id": "FOu7dMmd7k0G"
      },
      "execution_count": null,
      "outputs": []
    },
    {
      "cell_type": "code",
      "source": [
        "#LinearRegression kütüphanesi import ettim yukarıda şunu yazalım:\n",
        "MLR=LinearRegression()\n",
        "MLR.fit(X_train,y_train)\n",
        "print(\"Model: tank={}+{}*aircraft+{}*helicopter\".format(MLR.intercept_,MLR.coef_[0][0],MLR.coef_[0][1]))\n",
        "#Buradaki [] ifadeleri bu bir 2 boyutlu dizi olduğu için bu şekilde yazıldı."
      ],
      "metadata": {
        "execution": {
          "iopub.status.busy": "2022-05-24T10:07:16.765475Z",
          "iopub.execute_input": "2022-05-24T10:07:16.765711Z",
          "iopub.status.idle": "2022-05-24T10:07:16.772469Z",
          "shell.execute_reply.started": "2022-05-24T10:07:16.765689Z",
          "shell.execute_reply": "2022-05-24T10:07:16.771908Z"
        },
        "trusted": true,
        "id": "zucbaDe37k0G"
      },
      "execution_count": null,
      "outputs": []
    },
    {
      "cell_type": "code",
      "source": [
        "MLR.coef_ #2 tane değişkenimiz var bunların katsayısını bulduk bununla.Örneğin aşağıdaki 7. 0 ıncı değer\n",
        "#1. ise 1.değerdir. yukarıdaki [0][1] bu anlama geliyor."
      ],
      "metadata": {
        "execution": {
          "iopub.status.busy": "2022-05-24T10:10:09.090563Z",
          "iopub.execute_input": "2022-05-24T10:10:09.09087Z",
          "iopub.status.idle": "2022-05-24T10:10:09.098727Z",
          "shell.execute_reply.started": "2022-05-24T10:10:09.09084Z",
          "shell.execute_reply": "2022-05-24T10:10:09.097882Z"
        },
        "trusted": true,
        "id": "6lSgTbdw7k0H"
      },
      "execution_count": null,
      "outputs": []
    },
    {
      "cell_type": "markdown",
      "source": [
        "#Intercept ise doğrunun y eksenini kestiği noktayı bize verir.\n"
      ],
      "metadata": {
        "id": "Gy7xj7c_7k0H"
      }
    },
    {
      "cell_type": "markdown",
      "source": [
        "Peki bu değişkenler tank kaybını ne kadar doğru tahmin edebiliyor.Buna bakalım."
      ],
      "metadata": {
        "id": "dE-26asn7k0I"
      }
    },
    {
      "cell_type": "code",
      "source": [
        "y_tahmin=MLR.predict(X_test)\n",
        "r2_score(y_test,y_tahmin)\n",
        "#Burada görüldüğü üzere değer 1 e yaklaşmış demek ki 2 değişkenli olduğunda daha doğru tahmin edebiliyoruz."
      ],
      "metadata": {
        "execution": {
          "iopub.status.busy": "2022-05-24T10:06:47.729341Z",
          "iopub.execute_input": "2022-05-24T10:06:47.729577Z",
          "iopub.status.idle": "2022-05-24T10:06:47.736848Z",
          "shell.execute_reply.started": "2022-05-24T10:06:47.729554Z",
          "shell.execute_reply": "2022-05-24T10:06:47.736103Z"
        },
        "trusted": true,
        "id": "5_8vH0sQ7k0I"
      },
      "execution_count": null,
      "outputs": []
    },
    {
      "cell_type": "markdown",
      "source": [
        "ÖNEMLİ \"POLİNOMAL REGRESYONA\" GİRİYORUZ. KÜTÜPHANEMİZİ IMPORT EDELİM. Aşağıda Excel e \"m2\" ve \"fiyat\" adında 2sütunumuz var bunlara verilerimizi girdik daha sonra doyamızı \"fiyat.csv\" olarak kayıt edip buraya import ettik aşağıda."
      ],
      "metadata": {
        "id": "MJHHLXDj7k0J"
      }
    },
    {
      "cell_type": "code",
      "source": [
        "import pandas as pd\n",
        "import numpy as np\n",
        "import matplotlib.pyplot as plt\n",
        "from sklearn.model_selection import train_test_split\n",
        "from sklearn.linear_model import LinearRegression\n",
        "from sklearn.preprocessing import PolynomialFeatures"
      ],
      "metadata": {
        "execution": {
          "iopub.status.busy": "2022-05-24T10:22:09.199323Z",
          "iopub.execute_input": "2022-05-24T10:22:09.199589Z",
          "iopub.status.idle": "2022-05-24T10:22:09.205437Z",
          "shell.execute_reply.started": "2022-05-24T10:22:09.19956Z",
          "shell.execute_reply": "2022-05-24T10:22:09.20478Z"
        },
        "trusted": true,
        "id": "X6cNibTy7k0J"
      },
      "execution_count": null,
      "outputs": []
    },
    {
      "cell_type": "code",
      "source": [
        "dt=pd.read_csv(\"fiyat.csv\",sep=\",\")"
      ],
      "metadata": {
        "execution": {
          "iopub.status.busy": "2022-05-24T11:34:21.197613Z",
          "iopub.execute_input": "2022-05-24T11:34:21.197854Z",
          "iopub.status.idle": "2022-05-24T11:34:21.213039Z",
          "shell.execute_reply.started": "2022-05-24T11:34:21.197830Z",
          "shell.execute_reply": "2022-05-24T11:34:21.212568Z"
        },
        "trusted": true,
        "id": "2NcRh1QF7k0K"
      },
      "execution_count": null,
      "outputs": []
    },
    {
      "cell_type": "code",
      "source": [
        "data.head(10)"
      ],
      "metadata": {
        "execution": {
          "iopub.status.busy": "2022-05-24T11:34:25.384823Z",
          "iopub.execute_input": "2022-05-24T11:34:25.385139Z",
          "iopub.status.idle": "2022-05-24T11:34:25.406246Z",
          "shell.execute_reply.started": "2022-05-24T11:34:25.385117Z",
          "shell.execute_reply": "2022-05-24T11:34:25.405257Z"
        },
        "trusted": true,
        "id": "uU88BuOI7k0K"
      },
      "execution_count": null,
      "outputs": []
    },
    {
      "cell_type": "code",
      "source": [
        "#Bu bir doğrusal regresyon.\n",
        "\n",
        "X=data.m2.values.reshape(-1,1)\n",
        "y=data.fiyat.values.reshape(-1,1)\n",
        "lin_reg = LinearRegression()\n",
        "lin_reg.fit(X,y)\n",
        "\n",
        "\n",
        "def viz_linear():\n",
        "       plt.scatter(X, y, color='red')\n",
        "       plt.plot(X, lin_reg.predict(X), color='blue')\n",
        "       plt.title('Truth or bluff(Linear Regression)')\n",
        "       plt.xlabel('Position level')\n",
        "       plt.ylabel('Salary')\n",
        "       plt.show()\n",
        "       return\n",
        "       viz.linear()"
      ],
      "metadata": {
        "execution": {
          "iopub.status.busy": "2022-05-24T11:34:52.511322Z",
          "iopub.execute_input": "2022-05-24T11:34:52.511608Z",
          "iopub.status.idle": "2022-05-24T11:34:52.518901Z",
          "shell.execute_reply.started": "2022-05-24T11:34:52.511585Z",
          "shell.execute_reply": "2022-05-24T11:34:52.518220Z"
        },
        "trusted": true,
        "id": "pev6DfO27k0K"
      },
      "execution_count": null,
      "outputs": []
    },
    {
      "cell_type": "code",
      "source": [
        "#Polinimik regresyona bakalım:\n",
        "poly_reg=PolynomialFeatures(degree=6) #Buradaki degree sizi eğiminizin açısını hesaplar önemlidir.\n",
        "X_poly = poly_reg.fit_transform(X)\n",
        "pol_reg = LinearRegression()\n",
        "pol.reg.fit(X_poly, y)\n",
        "\n",
        "def viz_polymonial():\n",
        "       plt.scatter(X, y, color='red')\n",
        "       plt.plot(X, pol_reg.predict(poly_reg.fit_transform(X)), color='blue')\n",
        "       plt.title('Truth or bluff(Linear Regression)')\n",
        "       plt.xlabel('Position level')\n",
        "       plt.ylabel('Salary')\n",
        "       plt.show()\n",
        "       return\n",
        "       viz.polymonial()"
      ],
      "metadata": {
        "execution": {
          "iopub.status.busy": "2022-05-24T11:36:44.008107Z",
          "iopub.execute_input": "2022-05-24T11:36:44.008417Z",
          "iopub.status.idle": "2022-05-24T11:36:44.030441Z",
          "shell.execute_reply.started": "2022-05-24T11:36:44.008387Z",
          "shell.execute_reply": "2022-05-24T11:36:44.029335Z"
        },
        "trusted": true,
        "id": "rHph45U77k0L"
      },
      "execution_count": null,
      "outputs": []
    }
  ]
}