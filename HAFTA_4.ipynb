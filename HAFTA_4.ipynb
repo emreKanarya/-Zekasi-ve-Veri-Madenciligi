{
  "nbformat": 4,
  "nbformat_minor": 0,
  "metadata": {
    "colab": {
      "provenance": [],
      "collapsed_sections": [],
      "authorship_tag": "ABX9TyM3dIDYJ2NHuExAbUk79yya",
      "include_colab_link": true
    },
    "kernelspec": {
      "name": "python3",
      "display_name": "Python 3"
    },
    "language_info": {
      "name": "python"
    }
  },
  "cells": [
    {
      "cell_type": "markdown",
      "metadata": {
        "id": "view-in-github",
        "colab_type": "text"
      },
      "source": [
        "<a href=\"https://colab.research.google.com/github/emreKanarya/-Zekasi-ve-Veri-Madenciligi/blob/main/HAFTA_4.ipynb\" target=\"_parent\"><img src=\"https://colab.research.google.com/assets/colab-badge.svg\" alt=\"Open In Colab\"/></a>"
      ]
    },
    {
      "cell_type": "code",
      "execution_count": null,
      "metadata": {
        "id": "TNH3MizQ_JNa"
      },
      "outputs": [],
      "source": [
        "import numpy as np"
      ]
    },
    {
      "cell_type": "markdown",
      "source": [
        "Basit bir dizi oluşturalım."
      ],
      "metadata": {
        "id": "XAgqI7wf_adF"
      }
    },
    {
      "cell_type": "code",
      "source": [
        "a=np.array([1,2,3])\n",
        "print(a)"
      ],
      "metadata": {
        "colab": {
          "base_uri": "https://localhost:8080/"
        },
        "id": "Q2OlKwZP_eVD",
        "outputId": "c5eb4a30-aec4-48f2-b161-9869b9b65be9"
      },
      "execution_count": null,
      "outputs": [
        {
          "output_type": "stream",
          "name": "stdout",
          "text": [
            "[1 2 3]\n"
          ]
        }
      ]
    },
    {
      "cell_type": "markdown",
      "source": [
        "3 tane sıfırlardan oluşan dizi oluşturalım."
      ],
      "metadata": {
        "id": "qAjUWR11__Pz"
      }
    },
    {
      "cell_type": "code",
      "source": [
        "b=np.zeros(3)\n",
        "print(b)"
      ],
      "metadata": {
        "colab": {
          "base_uri": "https://localhost:8080/"
        },
        "id": "D_Ek4uzN_3TX",
        "outputId": "6cc53679-6aa8-4dda-d81c-3211aaaea44e"
      },
      "execution_count": null,
      "outputs": [
        {
          "output_type": "stream",
          "name": "stdout",
          "text": [
            "[0. 0. 0.]\n"
          ]
        }
      ]
    },
    {
      "cell_type": "markdown",
      "source": [
        "3 tane sıfırlardan oluşan dizi oluşturalım."
      ],
      "metadata": {
        "id": "HkPr1RZeANT6"
      }
    },
    {
      "cell_type": "code",
      "source": [
        "x=np.ones(4)\n",
        "print(x)"
      ],
      "metadata": {
        "colab": {
          "base_uri": "https://localhost:8080/"
        },
        "id": "3bvPLJW7AO1X",
        "outputId": "4ada8004-2e88-4bfa-8bc3-cb80de9f5c7d"
      },
      "execution_count": null,
      "outputs": [
        {
          "output_type": "stream",
          "name": "stdout",
          "text": [
            "[1. 1. 1. 1.]\n"
          ]
        }
      ]
    },
    {
      "cell_type": "markdown",
      "source": [
        "Rastgele sayılardan oluşan dizi oluşturalım.Ürettiği her elemanı 10 ile çarpalım."
      ],
      "metadata": {
        "id": "gSSclY76AZIf"
      }
    },
    {
      "cell_type": "code",
      "source": [
        "y=np.random.random(10)\n",
        "print(y*10)"
      ],
      "metadata": {
        "colab": {
          "base_uri": "https://localhost:8080/"
        },
        "id": "TQVlEhRBAcuh",
        "outputId": "dae3f98e-a71b-44c8-f627-e4f033fccbbb"
      },
      "execution_count": null,
      "outputs": [
        {
          "output_type": "stream",
          "name": "stdout",
          "text": [
            "[3.26117143 0.6049082  9.08372711 6.06081609 3.04206044 8.07433255\n",
            " 7.10668835 7.20010114 3.37708158 7.41488797]\n"
          ]
        }
      ]
    },
    {
      "cell_type": "markdown",
      "source": [
        "2 boyutlu, çok boyutlu dizi oluşturalım."
      ],
      "metadata": {
        "id": "P3YQKNS8A0GX"
      }
    },
    {
      "cell_type": "code",
      "source": [
        "c=np.array([[1,2,3],[4,5,6],[7,8,9]])\n",
        "print(c)"
      ],
      "metadata": {
        "colab": {
          "base_uri": "https://localhost:8080/"
        },
        "id": "7IrRKOatA2gL",
        "outputId": "4c1897e2-8f4e-4196-d772-aa4984f45e57"
      },
      "execution_count": null,
      "outputs": [
        {
          "output_type": "stream",
          "name": "stdout",
          "text": [
            "[[1 2 3]\n",
            " [4 5 6]\n",
            " [7 8 9]]\n"
          ]
        }
      ]
    },
    {
      "cell_type": "code",
      "source": [
        "print(y)"
      ],
      "metadata": {
        "colab": {
          "base_uri": "https://localhost:8080/"
        },
        "id": "2XIcGDYRBMt1",
        "outputId": "521eece8-1b1e-4c97-ae20-07cbc39a576b"
      },
      "execution_count": null,
      "outputs": [
        {
          "output_type": "stream",
          "name": "stdout",
          "text": [
            "[0.32611714 0.06049082 0.90837271 0.60608161 0.30420604 0.80743326\n",
            " 0.71066883 0.72001011 0.33770816 0.7414888 ]\n"
          ]
        }
      ]
    },
    {
      "cell_type": "markdown",
      "source": [
        "Ben yukarıdaki 2 numaralı değere ulaşmak istiyorum. Yani 0.060 ile başlayan değere."
      ],
      "metadata": {
        "id": "pwCvwnkJBSKC"
      }
    },
    {
      "cell_type": "code",
      "source": [
        "print(y[1])"
      ],
      "metadata": {
        "colab": {
          "base_uri": "https://localhost:8080/"
        },
        "id": "7bIHwLlEBh6K",
        "outputId": "207b1dd8-0df0-46eb-cbf6-83e9aaf60b84"
      },
      "execution_count": null,
      "outputs": [
        {
          "output_type": "stream",
          "name": "stdout",
          "text": [
            "0.06049082014163254\n"
          ]
        }
      ]
    },
    {
      "cell_type": "markdown",
      "source": [
        "Peki ilk değerden ikinci değere kadar olan değerler yani ilk ikisi 0:2 demem lazım çünkü 2 dahil olmaz 1 i alır böylelikle numpyda böyle yani. Şöylede yapılabilir\"([:2])\" aynı sonucu elde ederiz. "
      ],
      "metadata": {
        "id": "5zm_mKT9BsVb"
      }
    },
    {
      "cell_type": "code",
      "source": [
        "print(y[0:2])"
      ],
      "metadata": {
        "colab": {
          "base_uri": "https://localhost:8080/"
        },
        "id": "wh6JOMr4B8v4",
        "outputId": "f2441de0-a2c3-4b68-e268-9da815f76676"
      },
      "execution_count": null,
      "outputs": [
        {
          "output_type": "stream",
          "name": "stdout",
          "text": [
            "[0.32611714 0.06049082]\n"
          ]
        }
      ]
    },
    {
      "cell_type": "code",
      "source": [
        "print(y[1:])"
      ],
      "metadata": {
        "colab": {
          "base_uri": "https://localhost:8080/"
        },
        "id": "OGk1KwmDCa8U",
        "outputId": "eb6affac-69d5-40dc-e584-46fc5bee61bd"
      },
      "execution_count": null,
      "outputs": [
        {
          "output_type": "stream",
          "name": "stdout",
          "text": [
            "[0.06049082 0.90837271 0.60608161 0.30420604 0.80743326 0.71066883\n",
            " 0.72001011 0.33770816 0.7414888 ]\n"
          ]
        }
      ]
    },
    {
      "cell_type": "code",
      "source": [
        "print(c)"
      ],
      "metadata": {
        "colab": {
          "base_uri": "https://localhost:8080/"
        },
        "id": "G97vJlyeCnzB",
        "outputId": "6989b6ae-d17f-464c-9629-fa55db5fb3cd"
      },
      "execution_count": null,
      "outputs": [
        {
          "output_type": "stream",
          "name": "stdout",
          "text": [
            "[[1 2 3]\n",
            " [4 5 6]\n",
            " [7 8 9]]\n"
          ]
        }
      ]
    },
    {
      "cell_type": "markdown",
      "source": [
        "Ben yukarıdaki 3 e ulaşmak istiyorum ne yapmalıyım."
      ],
      "metadata": {
        "id": "5qwSz_7uCpyC"
      }
    },
    {
      "cell_type": "code",
      "source": [
        "print(c[1,1])"
      ],
      "metadata": {
        "colab": {
          "base_uri": "https://localhost:8080/"
        },
        "id": "ZzrZXxvCCtoa",
        "outputId": "a0f569f6-382c-426a-cc49-58791310146a"
      },
      "execution_count": null,
      "outputs": [
        {
          "output_type": "stream",
          "name": "stdout",
          "text": [
            "5\n"
          ]
        }
      ]
    },
    {
      "cell_type": "markdown",
      "source": [
        "Aşağıda 1. satırı al dedik daha sonra sütunda en baştan başla 1 e kadar al dedik fakat numpy da 1 dahil olmadı, 1 e kadar olan kısmı aldı."
      ],
      "metadata": {
        "id": "mKstT8cvDPc1"
      }
    },
    {
      "cell_type": "code",
      "source": [
        "print(c[1,:1])"
      ],
      "metadata": {
        "colab": {
          "base_uri": "https://localhost:8080/"
        },
        "id": "SvhGpAU6DJ7Y",
        "outputId": "5eb161d3-38fc-4abb-c672-c2629cca4584"
      },
      "execution_count": null,
      "outputs": [
        {
          "output_type": "stream",
          "name": "stdout",
          "text": [
            "[4]\n"
          ]
        }
      ]
    },
    {
      "cell_type": "code",
      "source": [
        "print(c[:,2])"
      ],
      "metadata": {
        "colab": {
          "base_uri": "https://localhost:8080/"
        },
        "id": "cYZsoObrD1-x",
        "outputId": "504e4be7-b9a6-40ed-f658-5e7ef856de85"
      },
      "execution_count": null,
      "outputs": [
        {
          "output_type": "stream",
          "name": "stdout",
          "text": [
            "[3 6 9]\n"
          ]
        }
      ]
    },
    {
      "cell_type": "markdown",
      "source": [
        "5 satır 3 sütundan oluşan bir matris yazalım."
      ],
      "metadata": {
        "id": "CDQq4nMiFt2n"
      }
    },
    {
      "cell_type": "code",
      "source": [
        "d=np.array([[1,2,3],[4,5,6],[7,8,9],[10,11,12],[13,14,15]])\n",
        "print(d)"
      ],
      "metadata": {
        "colab": {
          "base_uri": "https://localhost:8080/"
        },
        "id": "E_5KOKdMFztc",
        "outputId": "d23efb82-d5fc-436c-93f8-d1b3a504b91d"
      },
      "execution_count": null,
      "outputs": [
        {
          "output_type": "stream",
          "name": "stdout",
          "text": [
            "[[ 1  2  3]\n",
            " [ 4  5  6]\n",
            " [ 7  8  9]\n",
            " [10 11 12]\n",
            " [13 14 15]]\n"
          ]
        }
      ]
    },
    {
      "cell_type": "markdown",
      "source": [
        "\"shape\" fonksiyonu bize kaça kaçlık bir matris olduğunu veriyor."
      ],
      "metadata": {
        "id": "H03NQs82GNeh"
      }
    },
    {
      "cell_type": "code",
      "source": [
        "print(d.shape)"
      ],
      "metadata": {
        "colab": {
          "base_uri": "https://localhost:8080/"
        },
        "id": "pdteX7TJGVgq",
        "outputId": "0dfc0fb5-5959-4f97-9c79-78456d3e5293"
      },
      "execution_count": null,
      "outputs": [
        {
          "output_type": "stream",
          "name": "stdout",
          "text": [
            "(5, 3)\n"
          ]
        }
      ]
    },
    {
      "cell_type": "markdown",
      "source": [
        "\"reshape\" fonksiyonu matrisimizin boyutunu yeniden düzenlememizi sağlıyor. Örneğin bizim d miz 5 satır 3 sütundan oluşuyor fakat biz bunu reshape ile 3 satır 5 sütundan oluşturalım."
      ],
      "metadata": {
        "id": "-v0QnsWBGmnA"
      }
    },
    {
      "cell_type": "code",
      "source": [
        "print(d.reshape(3,5))"
      ],
      "metadata": {
        "colab": {
          "base_uri": "https://localhost:8080/"
        },
        "id": "FClY9uw3G2AI",
        "outputId": "8a0bd8c6-6da7-4a15-e4a8-f5f54848754b"
      },
      "execution_count": null,
      "outputs": [
        {
          "output_type": "stream",
          "name": "stdout",
          "text": [
            "[[ 1  2  3  4  5]\n",
            " [ 6  7  8  9 10]\n",
            " [11 12 13 14 15]]\n"
          ]
        }
      ]
    },
    {
      "cell_type": "code",
      "source": [
        "print(c)"
      ],
      "metadata": {
        "colab": {
          "base_uri": "https://localhost:8080/"
        },
        "id": "5K4Dvc1QHzBi",
        "outputId": "36194d7a-bb41-4942-a0b1-07246165a2d2"
      },
      "execution_count": null,
      "outputs": [
        {
          "output_type": "stream",
          "name": "stdout",
          "text": [
            "[[1 2 3]\n",
            " [4 5 6]\n",
            " [7 8 9]]\n"
          ]
        }
      ]
    },
    {
      "cell_type": "markdown",
      "source": [
        "Ben yukaridaki dizeden 7,8,9 u elde etmek istiyorum ne yapmalıyım?"
      ],
      "metadata": {
        "id": "S-8tYse9HXMp"
      }
    },
    {
      "cell_type": "code",
      "source": [
        "print(c[2,:])"
      ],
      "metadata": {
        "colab": {
          "base_uri": "https://localhost:8080/"
        },
        "id": "EX4PHvRnH1So",
        "outputId": "6aa8eed1-2c9a-48c1-fda1-19690d21593e"
      },
      "execution_count": null,
      "outputs": [
        {
          "output_type": "stream",
          "name": "stdout",
          "text": [
            "[7 8 9]\n"
          ]
        }
      ]
    },
    {
      "cell_type": "code",
      "source": [
        "print(d)"
      ],
      "metadata": {
        "colab": {
          "base_uri": "https://localhost:8080/"
        },
        "id": "NE-iNqzLICHj",
        "outputId": "0446edb8-03f3-437c-8694-4c3c7110e430"
      },
      "execution_count": null,
      "outputs": [
        {
          "output_type": "stream",
          "name": "stdout",
          "text": [
            "[[ 1  2  3]\n",
            " [ 4  5  6]\n",
            " [ 7  8  9]\n",
            " [10 11 12]\n",
            " [13 14 15]]\n"
          ]
        }
      ]
    },
    {
      "cell_type": "markdown",
      "source": [
        "Yukarıdan 12 i ve 15 i elde etmek istiyorum."
      ],
      "metadata": {
        "id": "7MHbn4lzIEpJ"
      }
    },
    {
      "cell_type": "code",
      "source": [
        "print(d[3:,2])"
      ],
      "metadata": {
        "colab": {
          "base_uri": "https://localhost:8080/"
        },
        "id": "U4i0wKTfIIhl",
        "outputId": "5325853d-1cb1-40f3-cb7a-4aad49bbfc12"
      },
      "execution_count": null,
      "outputs": [
        {
          "output_type": "stream",
          "name": "stdout",
          "text": [
            "[12 15]\n"
          ]
        }
      ]
    },
    {
      "cell_type": "markdown",
      "source": [
        "11,12,14,15 i elde etmek istiyorum ne yapmalıyım?"
      ],
      "metadata": {
        "id": "0X2US-dhJE-2"
      }
    },
    {
      "cell_type": "code",
      "source": [
        "print(d[3:,1:])"
      ],
      "metadata": {
        "colab": {
          "base_uri": "https://localhost:8080/"
        },
        "id": "RuXqx5lGJKz7",
        "outputId": "c98015ee-f04e-4dae-c067-4cd9a1948989"
      },
      "execution_count": null,
      "outputs": [
        {
          "output_type": "stream",
          "name": "stdout",
          "text": [
            "[[11 12]\n",
            " [14 15]]\n"
          ]
        }
      ]
    },
    {
      "cell_type": "markdown",
      "source": [
        "4 ve 5 i elde etmek istiyorum."
      ],
      "metadata": {
        "id": "DlPS526wJqhD"
      }
    },
    {
      "cell_type": "code",
      "source": [
        "print(d[1:2,0:2])"
      ],
      "metadata": {
        "colab": {
          "base_uri": "https://localhost:8080/"
        },
        "id": "E1h2voZ_Js5O",
        "outputId": "32f5b9e7-d79a-4912-e366-39f3993c6106"
      },
      "execution_count": null,
      "outputs": [
        {
          "output_type": "stream",
          "name": "stdout",
          "text": [
            "[[4 5]]\n"
          ]
        }
      ]
    },
    {
      "cell_type": "markdown",
      "source": [
        "8,9,11,12 yi elde etmek istiyoruz."
      ],
      "metadata": {
        "id": "ni3HmVM1K1EL"
      }
    },
    {
      "cell_type": "code",
      "source": [
        "print(d[2:4,1:])"
      ],
      "metadata": {
        "colab": {
          "base_uri": "https://localhost:8080/"
        },
        "id": "3ddep-nlK8tu",
        "outputId": "284933ef-aef8-4fb5-ca9a-156b04a02b9f"
      },
      "execution_count": null,
      "outputs": [
        {
          "output_type": "stream",
          "name": "stdout",
          "text": [
            "[[ 8  9]\n",
            " [11 12]]\n"
          ]
        }
      ]
    },
    {
      "cell_type": "markdown",
      "source": [
        "\".ndim\" bize dizinin boyutunu verir."
      ],
      "metadata": {
        "id": "lxX1QFLhMpnd"
      }
    },
    {
      "cell_type": "code",
      "source": [
        "print(c.ndim)"
      ],
      "metadata": {
        "colab": {
          "base_uri": "https://localhost:8080/"
        },
        "id": "GVkc-zSIM0K5",
        "outputId": "81d2c396-49e3-48aa-adf6-348175c63839"
      },
      "execution_count": null,
      "outputs": [
        {
          "output_type": "stream",
          "name": "stdout",
          "text": [
            "2\n"
          ]
        }
      ]
    },
    {
      "cell_type": "code",
      "source": [
        "print(a)"
      ],
      "metadata": {
        "colab": {
          "base_uri": "https://localhost:8080/"
        },
        "id": "5peN0aK9ZNXw",
        "outputId": "42a9f85c-3e3c-4d1d-dad5-fbe43d6a6a32"
      },
      "execution_count": null,
      "outputs": [
        {
          "output_type": "stream",
          "name": "stdout",
          "text": [
            "[1 2 3]\n"
          ]
        }
      ]
    },
    {
      "cell_type": "markdown",
      "source": [
        "\"arange\" fonksiyonu bize belirlediğimiz sayılar arasında kaçar ilerleyeceğini belirttiğimiz fonksiyonu sağlar.\n",
        "Örneğin 1 DEN 9 A KADAR 5 ER ARTARAK İLERLESİN İSTEDİĞİMİZ BİR DİZİ OLUŞTURALIM. "
      ],
      "metadata": {
        "id": "Ed9tkaxcZl3U"
      }
    },
    {
      "cell_type": "code",
      "source": [
        "e=np.arange(1,9,5)\n",
        "print(e)"
      ],
      "metadata": {
        "colab": {
          "base_uri": "https://localhost:8080/"
        },
        "id": "RwnXskuIZ8Og",
        "outputId": "f7e8cb0e-c22c-44f8-cfd9-39a918370d3d"
      },
      "execution_count": null,
      "outputs": [
        {
          "output_type": "stream",
          "name": "stdout",
          "text": [
            "[1 6]\n"
          ]
        }
      ]
    },
    {
      "cell_type": "markdown",
      "source": [
        "Örnek: 1 İLE 100 ARASINDA 7 YE BÖLÜNEBİLEN SAYILARDAN OLUŞAN BİR DİZİ OLUŞTURUNUZ."
      ],
      "metadata": {
        "id": "prGVFiviaU_i"
      }
    },
    {
      "cell_type": "code",
      "source": [
        "o=np.arange(0,101,7)\n",
        "print(o[1:])"
      ],
      "metadata": {
        "colab": {
          "base_uri": "https://localhost:8080/"
        },
        "id": "z-T23UmIanUe",
        "outputId": "495c476a-454a-4163-977f-99041c602d05"
      },
      "execution_count": null,
      "outputs": [
        {
          "output_type": "stream",
          "name": "stdout",
          "text": [
            "[ 7 14 21 28 35 42 49 56 63 70 77 84 91 98]\n"
          ]
        }
      ]
    },
    {
      "cell_type": "markdown",
      "source": [
        "\"linspace\" fonksiyonu başlangıç noktası bitiş noktası dahil kaç tane eşit aralıklı sayı oluşturacaksanız onu ifade ediyorsunuz. ÖRNEĞİN 0 DAHİL OLACAK 10 DAHİL OLACAK TOPLAMDA 7 TANE ARDIŞIK DEĞERLERDEN OLUŞAN BİR DİZİ OLUŞTURALIM. "
      ],
      "metadata": {
        "id": "b9EhrRNUb7N1"
      }
    },
    {
      "cell_type": "code",
      "source": [
        "v=np.linspace(0,10,7)\n",
        "print(v)"
      ],
      "metadata": {
        "colab": {
          "base_uri": "https://localhost:8080/"
        },
        "id": "VXCPW98zceW6",
        "outputId": "91c347ef-8526-4f48-bef0-6e7ab4672eeb"
      },
      "execution_count": null,
      "outputs": [
        {
          "output_type": "stream",
          "name": "stdout",
          "text": [
            "[ 0.          1.66666667  3.33333333  5.          6.66666667  8.33333333\n",
            " 10.        ]\n"
          ]
        }
      ]
    },
    {
      "cell_type": "markdown",
      "source": [
        "Örnek: 20 ile 21 arasında eşit aralıklı 20 tane değer üretiniz."
      ],
      "metadata": {
        "id": "L8DDQgmOczDK"
      }
    },
    {
      "cell_type": "code",
      "source": [
        "p=np.linspace(20,21,20)\n",
        "print(p)"
      ],
      "metadata": {
        "colab": {
          "base_uri": "https://localhost:8080/"
        },
        "id": "IZYHsJpAc8QV",
        "outputId": "245da604-860c-49a0-c549-be18642ef534"
      },
      "execution_count": null,
      "outputs": [
        {
          "output_type": "stream",
          "name": "stdout",
          "text": [
            "[20.         20.05263158 20.10526316 20.15789474 20.21052632 20.26315789\n",
            " 20.31578947 20.36842105 20.42105263 20.47368421 20.52631579 20.57894737\n",
            " 20.63157895 20.68421053 20.73684211 20.78947368 20.84210526 20.89473684\n",
            " 20.94736842 21.        ]\n"
          ]
        }
      ]
    },
    {
      "cell_type": "markdown",
      "source": [
        "Örnek: d1 ve d2 adında iki dizi oluşturun 3x3 lük olsunlar. Random,arange reshapelinspace kullanabilirsiniz."
      ],
      "metadata": {
        "id": "XvPnupR8diDl"
      }
    },
    {
      "cell_type": "code",
      "source": [
        "d1=np.random.random(9)\n",
        "d2=np.random.random(9)\n",
        "print(d1.reshape(3,3))"
      ],
      "metadata": {
        "colab": {
          "base_uri": "https://localhost:8080/"
        },
        "id": "yhtF5n40evl5",
        "outputId": "050ca8eb-235e-4919-b8b8-8c5f709cf2d9"
      },
      "execution_count": null,
      "outputs": [
        {
          "output_type": "stream",
          "name": "stdout",
          "text": [
            "[[0.16335928 0.15469979 0.32763149]\n",
            " [0.83990779 0.75817079 0.51375033]\n",
            " [0.58647586 0.538827   0.46055862]]\n"
          ]
        }
      ]
    },
    {
      "cell_type": "markdown",
      "source": [
        "Yukarıdaki çıkan sonuçların tam sayı olması için \"arange\" fonksiyonunu kullanarak yapalım."
      ],
      "metadata": {
        "id": "ob4TifHnfVae"
      }
    },
    {
      "cell_type": "code",
      "source": [
        "d1=np.arange(10,28,2)\n",
        "d2=np.arange(30,48,2)\n",
        "d1a=d1.reshape(3,3)\n",
        "d2a=d2.reshape(3,3)\n",
        "print(d1a)"
      ],
      "metadata": {
        "colab": {
          "base_uri": "https://localhost:8080/"
        },
        "id": "OTZ6C9wDffei",
        "outputId": "ea95da92-5d31-404a-c433-6c211bc71a19"
      },
      "execution_count": null,
      "outputs": [
        {
          "output_type": "stream",
          "name": "stdout",
          "text": [
            "[[10 12 14]\n",
            " [16 18 20]\n",
            " [22 24 26]]\n"
          ]
        }
      ]
    },
    {
      "cell_type": "markdown",
      "source": [
        "Peki yukarıdaki iki diziyi birleştirmek istiyorum nasıl birleştirebilirim? Yani yukarıdaki d1a ve d2a yı. Hem yatay eksende hem de dikey eksende birleştirme yapalım \"concatenate\" fonksiyonu yardımı ile."
      ],
      "metadata": {
        "id": "noYMNFfpf6FV"
      }
    },
    {
      "cell_type": "code",
      "source": [
        "d1=np.arange(10,28,2)\n",
        "d2=np.arange(30,48,2)\n",
        "d1a=d1.reshape(3,3)\n",
        "d2a=d2.reshape(3,3)\n",
        "yatay=np.concatenate([d1a,d2a],axis=0)\n",
        "dikey=np.concatenate([d1a,d2a],axis=1)\n",
        "print(dikey)"
      ],
      "metadata": {
        "colab": {
          "base_uri": "https://localhost:8080/"
        },
        "id": "Vr6s9UtXgCZY",
        "outputId": "4cadffbc-49c3-45f6-ce80-71661dd4acf9"
      },
      "execution_count": null,
      "outputs": [
        {
          "output_type": "stream",
          "name": "stdout",
          "text": [
            "[[10 12 14 30 32 34]\n",
            " [16 18 20 36 38 40]\n",
            " [22 24 26 42 44 46]]\n"
          ]
        }
      ]
    },
    {
      "cell_type": "markdown",
      "source": [
        "Dikey dizisi içerisindeki EN BÜYÜK DEĞERİ nasıl bulabiliriz?"
      ],
      "metadata": {
        "id": "8VE0jr2Lhzcc"
      }
    },
    {
      "cell_type": "code",
      "source": [
        "print(dikey.max())"
      ],
      "metadata": {
        "colab": {
          "base_uri": "https://localhost:8080/"
        },
        "id": "pFI7uZu_h6E2",
        "outputId": "326bc29e-ad6a-4f5f-81fe-57d314853d8e"
      },
      "execution_count": null,
      "outputs": [
        {
          "output_type": "stream",
          "name": "stdout",
          "text": [
            "46\n"
          ]
        }
      ]
    },
    {
      "cell_type": "markdown",
      "source": [
        "Dikey dizisi içerisindeki EN KÜÇÜK DEĞERİ nasıl bulabiliriz?"
      ],
      "metadata": {
        "id": "kF6lBSrniBkS"
      }
    },
    {
      "cell_type": "code",
      "source": [
        "print(dikey.min())"
      ],
      "metadata": {
        "colab": {
          "base_uri": "https://localhost:8080/"
        },
        "id": "Shx0oyyeiJrV",
        "outputId": "768973f6-1176-42ac-e16c-35f4a204033e"
      },
      "execution_count": null,
      "outputs": [
        {
          "output_type": "stream",
          "name": "stdout",
          "text": [
            "10\n"
          ]
        }
      ]
    },
    {
      "cell_type": "markdown",
      "source": [
        "Dikey dizisi içerisindeki TÜM DEĞERLERİN TOPLAMINI nasıl bulabiliriz?"
      ],
      "metadata": {
        "id": "a9AH62tjiPqs"
      }
    },
    {
      "cell_type": "code",
      "source": [
        "print(dikey.sum())"
      ],
      "metadata": {
        "colab": {
          "base_uri": "https://localhost:8080/"
        },
        "id": "kSkHSjTwiVVm",
        "outputId": "24714a46-d6ee-423f-de28-4432a0cc01fb"
      },
      "execution_count": null,
      "outputs": [
        {
          "output_type": "stream",
          "name": "stdout",
          "text": [
            "504\n"
          ]
        }
      ]
    },
    {
      "cell_type": "markdown",
      "source": [
        "Dikey dizisi içerisindeki TÜM DEĞERLERİN ORTALAMASINI nasıl bulabiliriz?"
      ],
      "metadata": {
        "id": "4BoQ4NmxidGC"
      }
    },
    {
      "cell_type": "code",
      "source": [
        "print(dikey.mean())"
      ],
      "metadata": {
        "colab": {
          "base_uri": "https://localhost:8080/"
        },
        "id": "QfY00Abtifbo",
        "outputId": "6017e24a-2638-49e2-aa12-748408419ef3"
      },
      "execution_count": null,
      "outputs": [
        {
          "output_type": "stream",
          "name": "stdout",
          "text": [
            "28.0\n"
          ]
        }
      ]
    },
    {
      "cell_type": "markdown",
      "source": [
        "Dikey dizisi içerisindeki değeri 50 den büyük olan var mı?"
      ],
      "metadata": {
        "id": "Jy3ZlPn9i0MF"
      }
    },
    {
      "cell_type": "code",
      "source": [
        "d1=np.arange(10,28,2)\n",
        "d2=np.arange(30,48,2)\n",
        "d1a=d1.reshape(3,3)\n",
        "d2a=d2.reshape(3,3)\n",
        "yatay=np.concatenate([d1a,d2a],axis=0)\n",
        "dikey=np.concatenate([d1a,d2a],axis=1)\n",
        "print(dikey>50)"
      ],
      "metadata": {
        "colab": {
          "base_uri": "https://localhost:8080/"
        },
        "id": "GXK4QF8Ki6Nl",
        "outputId": "46ad53cb-2f92-401f-ac3f-7c703c589e23"
      },
      "execution_count": null,
      "outputs": [
        {
          "output_type": "stream",
          "name": "stdout",
          "text": [
            "[[False False False False False False]\n",
            " [False False False False False False]\n",
            " [False False False False False False]]\n"
          ]
        }
      ]
    },
    {
      "cell_type": "markdown",
      "source": [
        "PANDAS a GİRİŞ YAPIYORUZ.PANDAS \"DATAFRAEM\" ler ÜZERİNDE İŞLEM YAPMAMIZI SAĞLIYOR."
      ],
      "metadata": {
        "id": "bwFGOcoajXv4"
      }
    },
    {
      "cell_type": "code",
      "source": [
        "import pandas as pd\n"
      ],
      "metadata": {
        "id": "-yTCWJx7jg5c"
      },
      "execution_count": null,
      "outputs": []
    },
    {
      "cell_type": "code",
      "source": [
        "x=np.arange(1,20,2)\n",
        "print(x)"
      ],
      "metadata": {
        "colab": {
          "base_uri": "https://localhost:8080/"
        },
        "id": "2cvd29LFjsrB",
        "outputId": "db1495cc-2b8b-4d3e-f1d1-3df2dc93c70a"
      },
      "execution_count": null,
      "outputs": [
        {
          "output_type": "stream",
          "name": "stdout",
          "text": [
            "[ 1  3  5  7  9 11 13 15 17 19]\n"
          ]
        }
      ]
    },
    {
      "cell_type": "markdown",
      "source": [
        "Numpy ı datafraem e dönüştürelim.Bunun için öncelikle datafraem nesnesi oluşturuyoruz."
      ],
      "metadata": {
        "id": "_yQ2pO94j6Ce"
      }
    },
    {
      "cell_type": "code",
      "source": [
        "y=np.arange(1,12,2).reshape(2,3)\n",
        "df=pd.DataFrame(y,columns=[\"Ali\",\"Ayşe\",\"Mehmet\"])\n",
        "df"
      ],
      "metadata": {
        "colab": {
          "base_uri": "https://localhost:8080/",
          "height": 112
        },
        "id": "nQB7WcoukHG5",
        "outputId": "388747ce-939d-48d2-a403-a7df84c50586"
      },
      "execution_count": null,
      "outputs": [
        {
          "output_type": "execute_result",
          "data": {
            "text/plain": [
              "   Ali  Ayşe  Mehmet\n",
              "0    1     3       5\n",
              "1    7     9      11"
            ],
            "text/html": [
              "\n",
              "  <div id=\"df-6ebe1d6b-bc39-49f8-ae4c-bbb46aec136f\">\n",
              "    <div class=\"colab-df-container\">\n",
              "      <div>\n",
              "<style scoped>\n",
              "    .dataframe tbody tr th:only-of-type {\n",
              "        vertical-align: middle;\n",
              "    }\n",
              "\n",
              "    .dataframe tbody tr th {\n",
              "        vertical-align: top;\n",
              "    }\n",
              "\n",
              "    .dataframe thead th {\n",
              "        text-align: right;\n",
              "    }\n",
              "</style>\n",
              "<table border=\"1\" class=\"dataframe\">\n",
              "  <thead>\n",
              "    <tr style=\"text-align: right;\">\n",
              "      <th></th>\n",
              "      <th>Ali</th>\n",
              "      <th>Ayşe</th>\n",
              "      <th>Mehmet</th>\n",
              "    </tr>\n",
              "  </thead>\n",
              "  <tbody>\n",
              "    <tr>\n",
              "      <th>0</th>\n",
              "      <td>1</td>\n",
              "      <td>3</td>\n",
              "      <td>5</td>\n",
              "    </tr>\n",
              "    <tr>\n",
              "      <th>1</th>\n",
              "      <td>7</td>\n",
              "      <td>9</td>\n",
              "      <td>11</td>\n",
              "    </tr>\n",
              "  </tbody>\n",
              "</table>\n",
              "</div>\n",
              "      <button class=\"colab-df-convert\" onclick=\"convertToInteractive('df-6ebe1d6b-bc39-49f8-ae4c-bbb46aec136f')\"\n",
              "              title=\"Convert this dataframe to an interactive table.\"\n",
              "              style=\"display:none;\">\n",
              "        \n",
              "  <svg xmlns=\"http://www.w3.org/2000/svg\" height=\"24px\"viewBox=\"0 0 24 24\"\n",
              "       width=\"24px\">\n",
              "    <path d=\"M0 0h24v24H0V0z\" fill=\"none\"/>\n",
              "    <path d=\"M18.56 5.44l.94 2.06.94-2.06 2.06-.94-2.06-.94-.94-2.06-.94 2.06-2.06.94zm-11 1L8.5 8.5l.94-2.06 2.06-.94-2.06-.94L8.5 2.5l-.94 2.06-2.06.94zm10 10l.94 2.06.94-2.06 2.06-.94-2.06-.94-.94-2.06-.94 2.06-2.06.94z\"/><path d=\"M17.41 7.96l-1.37-1.37c-.4-.4-.92-.59-1.43-.59-.52 0-1.04.2-1.43.59L10.3 9.45l-7.72 7.72c-.78.78-.78 2.05 0 2.83L4 21.41c.39.39.9.59 1.41.59.51 0 1.02-.2 1.41-.59l7.78-7.78 2.81-2.81c.8-.78.8-2.07 0-2.86zM5.41 20L4 18.59l7.72-7.72 1.47 1.35L5.41 20z\"/>\n",
              "  </svg>\n",
              "      </button>\n",
              "      \n",
              "  <style>\n",
              "    .colab-df-container {\n",
              "      display:flex;\n",
              "      flex-wrap:wrap;\n",
              "      gap: 12px;\n",
              "    }\n",
              "\n",
              "    .colab-df-convert {\n",
              "      background-color: #E8F0FE;\n",
              "      border: none;\n",
              "      border-radius: 50%;\n",
              "      cursor: pointer;\n",
              "      display: none;\n",
              "      fill: #1967D2;\n",
              "      height: 32px;\n",
              "      padding: 0 0 0 0;\n",
              "      width: 32px;\n",
              "    }\n",
              "\n",
              "    .colab-df-convert:hover {\n",
              "      background-color: #E2EBFA;\n",
              "      box-shadow: 0px 1px 2px rgba(60, 64, 67, 0.3), 0px 1px 3px 1px rgba(60, 64, 67, 0.15);\n",
              "      fill: #174EA6;\n",
              "    }\n",
              "\n",
              "    [theme=dark] .colab-df-convert {\n",
              "      background-color: #3B4455;\n",
              "      fill: #D2E3FC;\n",
              "    }\n",
              "\n",
              "    [theme=dark] .colab-df-convert:hover {\n",
              "      background-color: #434B5C;\n",
              "      box-shadow: 0px 1px 3px 1px rgba(0, 0, 0, 0.15);\n",
              "      filter: drop-shadow(0px 1px 2px rgba(0, 0, 0, 0.3));\n",
              "      fill: #FFFFFF;\n",
              "    }\n",
              "  </style>\n",
              "\n",
              "      <script>\n",
              "        const buttonEl =\n",
              "          document.querySelector('#df-6ebe1d6b-bc39-49f8-ae4c-bbb46aec136f button.colab-df-convert');\n",
              "        buttonEl.style.display =\n",
              "          google.colab.kernel.accessAllowed ? 'block' : 'none';\n",
              "\n",
              "        async function convertToInteractive(key) {\n",
              "          const element = document.querySelector('#df-6ebe1d6b-bc39-49f8-ae4c-bbb46aec136f');\n",
              "          const dataTable =\n",
              "            await google.colab.kernel.invokeFunction('convertToInteractive',\n",
              "                                                     [key], {});\n",
              "          if (!dataTable) return;\n",
              "\n",
              "          const docLinkHtml = 'Like what you see? Visit the ' +\n",
              "            '<a target=\"_blank\" href=https://colab.research.google.com/notebooks/data_table.ipynb>data table notebook</a>'\n",
              "            + ' to learn more about interactive tables.';\n",
              "          element.innerHTML = '';\n",
              "          dataTable['output_type'] = 'display_data';\n",
              "          await google.colab.output.renderOutput(dataTable, element);\n",
              "          const docLink = document.createElement('div');\n",
              "          docLink.innerHTML = docLinkHtml;\n",
              "          element.appendChild(docLink);\n",
              "        }\n",
              "      </script>\n",
              "    </div>\n",
              "  </div>\n",
              "  "
            ]
          },
          "metadata": {},
          "execution_count": 48
        }
      ]
    },
    {
      "cell_type": "code",
      "source": [],
      "metadata": {
        "id": "3zONnuKPj_s0"
      },
      "execution_count": null,
      "outputs": []
    }
  ]
}